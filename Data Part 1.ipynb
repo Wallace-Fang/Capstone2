{
 "cells": [
  {
   "cell_type": "code",
   "execution_count": 1,
   "id": "87ddedd1",
   "metadata": {},
   "outputs": [],
   "source": [
    "import pandas as pd\n",
    "import numpy as np\n",
    "from sklearn.preprocessing import StandardScaler\n",
    "import re\n",
    "import datetime\n",
    "import seaborn as sns\n",
    "import matplotlib.pyplot as plt\n",
    "import datetime\n",
    "from category_encoders import TargetEncoder\n",
    "from sklearn.model_selection import cross_val_score, train_test_split\n",
    "from sklearn.metrics import roc_auc_score\n",
    "import warnings\n",
    "from sklearn.linear_model import LogisticRegression\n",
    "warnings.simplefilter(action='ignore', category=FutureWarning)\n",
    "\n",
    "SEED = 123"
   ]
  },
  {
   "cell_type": "code",
   "execution_count": 2,
   "id": "75f52d33",
   "metadata": {},
   "outputs": [],
   "source": [
    "taobao_df = pd.read_csv('taobao_sampled.csv')"
   ]
  },
  {
   "cell_type": "code",
   "execution_count": 3,
   "id": "d694cfad",
   "metadata": {},
   "outputs": [
    {
     "data": {
      "text/plain": [
       "(250295, 21)"
      ]
     },
     "execution_count": 3,
     "metadata": {},
     "output_type": "execute_result"
    }
   ],
   "source": [
    "taobao_df.shape"
   ]
  },
  {
   "cell_type": "code",
   "execution_count": 4,
   "id": "e7045522",
   "metadata": {},
   "outputs": [],
   "source": [
    "#Split dates into days for categorical encoding/create dummies\n",
    "    #- Double check of outliers in prices\n",
    "    #- Create dummies for shopping level \n",
    "    #- Create dummies for occupation\n",
    "    #- Create dummies for new_user_class level\n",
    "    #- figure out encoding function for high cardinality features"
   ]
  },
  {
   "cell_type": "code",
   "execution_count": 5,
   "id": "0e791fcc",
   "metadata": {},
   "outputs": [
    {
     "data": {
      "text/plain": [
       "<Axes: >"
      ]
     },
     "execution_count": 5,
     "metadata": {},
     "output_type": "execute_result"
    },
    {
     "data": {
      "image/png": "[encoded data removed]",
      "text/plain": [
       "<Figure size 640x480 with 1 Axes>"
      ]
     },
     "metadata": {},
     "output_type": "display_data"
    }
   ],
   "source": [
    "sns.boxplot(taobao_df['price'])"
   ]
  },
  {
   "cell_type": "markdown",
   "id": "cc3ef28a",
   "metadata": {},
   "source": [
    "Checking to see the outliers for the price feature, looks like one purchase is way out there"
   ]
  },
  {
   "cell_type": "code",
   "execution_count": 6,
   "id": "0ff28ead",
   "metadata": {},
   "outputs": [
    {
     "data": {
      "text/plain": [
       "count     250295.000000\n",
       "mean         578.731110\n",
       "std        16463.383175\n",
       "min            0.010000\n",
       "25%           87.480000\n",
       "50%          168.000000\n",
       "75%          328.000000\n",
       "max      3800000.000000\n",
       "Name: price, dtype: object"
      ]
     },
     "execution_count": 6,
     "metadata": {},
     "output_type": "execute_result"
    }
   ],
   "source": [
    "taobao_df['price'].describe().apply(lambda x: format(x, 'f'))"
   ]
  },
  {
   "cell_type": "code",
   "execution_count": 7,
   "id": "a670133c",
   "metadata": {},
   "outputs": [],
   "source": [
    "#Performing the calculations needed to determine the percentiles needed for the box plot to remove the outliers"
   ]
  },
  {
   "cell_type": "code",
   "execution_count": 8,
   "id": "6eb014a1",
   "metadata": {},
   "outputs": [
    {
     "name": "stdout",
     "output_type": "stream",
     "text": [
      "upper limit: 2015.21\n",
      "upper limit: -645.6300000000001\n"
     ]
    }
   ],
   "source": [
    "percentile25 = taobao_df['price'].quantile(0.05)\n",
    "percentile75 = taobao_df['price'].quantile(0.95)\n",
    "iqr = percentile75 - percentile25\n",
    "\n",
    "upper_limit = percentile25 + 1.5 * iqr\n",
    "lower_limit = percentile75 - 1.5 * iqr\n",
    "\n",
    "print(f\"upper limit: {upper_limit}\")\n",
    "print(f\"upper limit: {lower_limit}\")"
   ]
  },
  {
   "cell_type": "code",
   "execution_count": 9,
   "id": "d2c17de0",
   "metadata": {},
   "outputs": [],
   "source": [
    "#Removed the outliars outside the upper and lower bounds"
   ]
  },
  {
   "cell_type": "code",
   "execution_count": 10,
   "id": "186690c5",
   "metadata": {},
   "outputs": [],
   "source": [
    "taobao_df = taobao_df[(taobao_df['price'] >= lower_limit) & (taobao_df['price'] <= upper_limit)]"
   ]
  },
  {
   "cell_type": "code",
   "execution_count": 11,
   "id": "867737e6",
   "metadata": {},
   "outputs": [
    {
     "data": {
      "text/plain": [
       "<Axes: >"
      ]
     },
     "execution_count": 11,
     "metadata": {},
     "output_type": "execute_result"
    },
    {
     "data": {
      "image/png": "[encoded data removed]",
      "text/plain": [
       "<Figure size 640x480 with 1 Axes>"
      ]
     },
     "metadata": {},
     "output_type": "display_data"
    }
   ],
   "source": [
    "sns.boxplot(taobao_df['price'])"
   ]
  },
  {
   "cell_type": "code",
   "execution_count": 12,
   "id": "aa3542dd",
   "metadata": {},
   "outputs": [
    {
     "data": {
      "text/plain": [
       "(241756, 21)"
      ]
     },
     "execution_count": 12,
     "metadata": {},
     "output_type": "execute_result"
    }
   ],
   "source": [
    "taobao_df.shape"
   ]
  },
  {
   "cell_type": "markdown",
   "id": "1143ed4e",
   "metadata": {},
   "source": [
    "We removed the most signicant outliars based on the price column, originally I thought about doing the default 25/75 quantiles as the values when doing the iqr calculation; however, I thought about how its probably not uncommon for people to spend a lot of money during a sale. I decided to set the maximum price to be around $2000, the majority of the users will spend less than this. About 90,000 entries was dropped because they were outliers. "
   ]
  },
  {
   "cell_type": "code",
   "execution_count": 13,
   "id": "8e487178",
   "metadata": {},
   "outputs": [
    {
     "data": {
      "text/plain": [
       "count    241756.000000\n",
       "mean        251.464888\n",
       "std         290.888279\n",
       "min           0.010000\n",
       "25%          80.000000\n",
       "50%         159.000000\n",
       "75%         299.000000\n",
       "max        2008.000000\n",
       "Name: price, dtype: object"
      ]
     },
     "execution_count": 13,
     "metadata": {},
     "output_type": "execute_result"
    }
   ],
   "source": [
    "taobao_df['price'].describe().apply(lambda x: format(x, 'f'))"
   ]
  },
  {
   "cell_type": "code",
   "execution_count": 14,
   "id": "2beb4a0d",
   "metadata": {
    "scrolled": true
   },
   "outputs": [
    {
     "data": {
      "text/html": [
       "<div>\n",
       "<style scoped>\n",
       "    .dataframe tbody tr th:only-of-type {\n",
       "        vertical-align: middle;\n",
       "    }\n",
       "\n",
       "    .dataframe tbody tr th {\n",
       "        vertical-align: top;\n",
       "    }\n",
       "\n",
       "    .dataframe thead th {\n",
       "        text-align: right;\n",
       "    }\n",
       "</style>\n",
       "<table border=\"1\" class=\"dataframe\">\n",
       "  <thead>\n",
       "    <tr style=\"text-align: right;\">\n",
       "      <th></th>\n",
       "      <th>Unnamed: 0.1</th>\n",
       "      <th>Unnamed: 0</th>\n",
       "      <th>adgroup_id</th>\n",
       "      <th>cate_id</th>\n",
       "      <th>campaign_id</th>\n",
       "      <th>advertiser_id</th>\n",
       "      <th>brand_id</th>\n",
       "      <th>price</th>\n",
       "      <th>user_id</th>\n",
       "      <th>time_stamp</th>\n",
       "      <th>...</th>\n",
       "      <th>clk</th>\n",
       "      <th>cms_segid</th>\n",
       "      <th>cms_group_id</th>\n",
       "      <th>gender</th>\n",
       "      <th>age_level</th>\n",
       "      <th>shopping_level</th>\n",
       "      <th>occupation</th>\n",
       "      <th>new_user_class_level</th>\n",
       "      <th>date_time</th>\n",
       "      <th>date</th>\n",
       "    </tr>\n",
       "  </thead>\n",
       "  <tbody>\n",
       "    <tr>\n",
       "      <th>0</th>\n",
       "      <td>20256381</td>\n",
       "      <td>20256381</td>\n",
       "      <td>19259</td>\n",
       "      <td>10893</td>\n",
       "      <td>46151</td>\n",
       "      <td>130939</td>\n",
       "      <td>353787.0</td>\n",
       "      <td>108.0</td>\n",
       "      <td>383593</td>\n",
       "      <td>1494005921</td>\n",
       "      <td>...</td>\n",
       "      <td>0</td>\n",
       "      <td>81</td>\n",
       "      <td>10</td>\n",
       "      <td>1</td>\n",
       "      <td>4</td>\n",
       "      <td>3</td>\n",
       "      <td>0</td>\n",
       "      <td>4.0</td>\n",
       "      <td>2017-05-05 17:38:41</td>\n",
       "      <td>05-05-2017</td>\n",
       "    </tr>\n",
       "    <tr>\n",
       "      <th>1</th>\n",
       "      <td>22344021</td>\n",
       "      <td>22344021</td>\n",
       "      <td>326437</td>\n",
       "      <td>5920</td>\n",
       "      <td>289598</td>\n",
       "      <td>72366</td>\n",
       "      <td>454237.0</td>\n",
       "      <td>699.0</td>\n",
       "      <td>967836</td>\n",
       "      <td>1494003434</td>\n",
       "      <td>...</td>\n",
       "      <td>0</td>\n",
       "      <td>43</td>\n",
       "      <td>5</td>\n",
       "      <td>2</td>\n",
       "      <td>5</td>\n",
       "      <td>3</td>\n",
       "      <td>0</td>\n",
       "      <td>1.0</td>\n",
       "      <td>2017-05-05 16:57:14</td>\n",
       "      <td>05-05-2017</td>\n",
       "    </tr>\n",
       "    <tr>\n",
       "      <th>2</th>\n",
       "      <td>24549068</td>\n",
       "      <td>24549068</td>\n",
       "      <td>23637</td>\n",
       "      <td>6283</td>\n",
       "      <td>55513</td>\n",
       "      <td>138037</td>\n",
       "      <td>390418.0</td>\n",
       "      <td>176.0</td>\n",
       "      <td>350890</td>\n",
       "      <td>1494000102</td>\n",
       "      <td>...</td>\n",
       "      <td>0</td>\n",
       "      <td>90</td>\n",
       "      <td>11</td>\n",
       "      <td>1</td>\n",
       "      <td>5</td>\n",
       "      <td>3</td>\n",
       "      <td>0</td>\n",
       "      <td>1.0</td>\n",
       "      <td>2017-05-05 16:01:42</td>\n",
       "      <td>05-05-2017</td>\n",
       "    </tr>\n",
       "    <tr>\n",
       "      <th>3</th>\n",
       "      <td>3324928</td>\n",
       "      <td>3324928</td>\n",
       "      <td>666777</td>\n",
       "      <td>4617</td>\n",
       "      <td>83188</td>\n",
       "      <td>155813</td>\n",
       "      <td>135797.0</td>\n",
       "      <td>22.0</td>\n",
       "      <td>1083816</td>\n",
       "      <td>1494024824</td>\n",
       "      <td>...</td>\n",
       "      <td>0</td>\n",
       "      <td>20</td>\n",
       "      <td>3</td>\n",
       "      <td>2</td>\n",
       "      <td>3</td>\n",
       "      <td>3</td>\n",
       "      <td>0</td>\n",
       "      <td>4.0</td>\n",
       "      <td>2017-05-05 22:53:44</td>\n",
       "      <td>05-05-2017</td>\n",
       "    </tr>\n",
       "    <tr>\n",
       "      <th>4</th>\n",
       "      <td>8352008</td>\n",
       "      <td>8352008</td>\n",
       "      <td>361181</td>\n",
       "      <td>6142</td>\n",
       "      <td>172756</td>\n",
       "      <td>189104</td>\n",
       "      <td>376599.0</td>\n",
       "      <td>268.0</td>\n",
       "      <td>881369</td>\n",
       "      <td>1494000242</td>\n",
       "      <td>...</td>\n",
       "      <td>0</td>\n",
       "      <td>0</td>\n",
       "      <td>2</td>\n",
       "      <td>2</td>\n",
       "      <td>2</td>\n",
       "      <td>3</td>\n",
       "      <td>0</td>\n",
       "      <td>2.0</td>\n",
       "      <td>2017-05-05 16:04:02</td>\n",
       "      <td>05-05-2017</td>\n",
       "    </tr>\n",
       "  </tbody>\n",
       "</table>\n",
       "<p>5 rows × 21 columns</p>\n",
       "</div>"
      ],
      "text/plain": [
       "   Unnamed: 0.1  Unnamed: 0  adgroup_id  cate_id  campaign_id  advertiser_id  \\\n",
       "0      20256381    20256381       19259    10893        46151         130939   \n",
       "1      22344021    22344021      326437     5920       289598          72366   \n",
       "2      24549068    24549068       23637     6283        55513         138037   \n",
       "3       3324928     3324928      666777     4617        83188         155813   \n",
       "4       8352008     8352008      361181     6142       172756         189104   \n",
       "\n",
       "   brand_id  price  user_id  time_stamp  ... clk  cms_segid  cms_group_id  \\\n",
       "0  353787.0  108.0   383593  1494005921  ...   0         81            10   \n",
       "1  454237.0  699.0   967836  1494003434  ...   0         43             5   \n",
       "2  390418.0  176.0   350890  1494000102  ...   0         90            11   \n",
       "3  135797.0   22.0  1083816  1494024824  ...   0         20             3   \n",
       "4  376599.0  268.0   881369  1494000242  ...   0          0             2   \n",
       "\n",
       "   gender  age_level  shopping_level  occupation  new_user_class_level  \\\n",
       "0       1          4               3           0                   4.0   \n",
       "1       2          5               3           0                   1.0   \n",
       "2       1          5               3           0                   1.0   \n",
       "3       2          3               3           0                   4.0   \n",
       "4       2          2               3           0                   2.0   \n",
       "\n",
       "             date_time        date  \n",
       "0  2017-05-05 17:38:41  05-05-2017  \n",
       "1  2017-05-05 16:57:14  05-05-2017  \n",
       "2  2017-05-05 16:01:42  05-05-2017  \n",
       "3  2017-05-05 22:53:44  05-05-2017  \n",
       "4  2017-05-05 16:04:02  05-05-2017  \n",
       "\n",
       "[5 rows x 21 columns]"
      ]
     },
     "execution_count": 14,
     "metadata": {},
     "output_type": "execute_result"
    }
   ],
   "source": [
    "taobao_df.head()"
   ]
  },
  {
   "cell_type": "markdown",
   "id": "501dd889",
   "metadata": {},
   "source": [
    "Creating a new column to store the time and day of the 'date_time' column, since the month and year doesnt change we dont need a seperate column for them"
   ]
  },
  {
   "cell_type": "code",
   "execution_count": 15,
   "id": "9770c9db",
   "metadata": {},
   "outputs": [],
   "source": [
    "taobao_df['time'] = pd.to_datetime(taobao_df['date_time']).dt.time\n",
    "taobao_df['day'] = pd.to_datetime(taobao_df['date_time']).dt.day"
   ]
  },
  {
   "cell_type": "code",
   "execution_count": 16,
   "id": "d7fad4b3",
   "metadata": {},
   "outputs": [
    {
     "data": {
      "text/plain": [
       "Index(['Unnamed: 0.1', 'Unnamed: 0', 'adgroup_id', 'cate_id', 'campaign_id',\n",
       "       'advertiser_id', 'brand_id', 'price', 'user_id', 'time_stamp', 'pid',\n",
       "       'clk', 'cms_segid', 'cms_group_id', 'gender', 'age_level',\n",
       "       'shopping_level', 'occupation', 'new_user_class_level', 'date_time',\n",
       "       'date', 'time', 'day'],\n",
       "      dtype='object')"
      ]
     },
     "execution_count": 16,
     "metadata": {},
     "output_type": "execute_result"
    }
   ],
   "source": [
    "taobao_df.columns"
   ]
  },
  {
   "cell_type": "code",
   "execution_count": 17,
   "id": "3d752a76",
   "metadata": {},
   "outputs": [],
   "source": [
    "#Deleting date_time column along with the index columns since we dont need them anymore"
   ]
  },
  {
   "cell_type": "code",
   "execution_count": 18,
   "id": "42ef11a8",
   "metadata": {},
   "outputs": [],
   "source": [
    "taobao_df.drop(['Unnamed: 0.1', 'Unnamed: 0', 'date_time'], axis=1, inplace=True)"
   ]
  },
  {
   "cell_type": "code",
   "execution_count": 19,
   "id": "f3703f5a",
   "metadata": {
    "scrolled": true
   },
   "outputs": [
    {
     "data": {
      "text/html": [
       "<div>\n",
       "<style scoped>\n",
       "    .dataframe tbody tr th:only-of-type {\n",
       "        vertical-align: middle;\n",
       "    }\n",
       "\n",
       "    .dataframe tbody tr th {\n",
       "        vertical-align: top;\n",
       "    }\n",
       "\n",
       "    .dataframe thead th {\n",
       "        text-align: right;\n",
       "    }\n",
       "</style>\n",
       "<table border=\"1\" class=\"dataframe\">\n",
       "  <thead>\n",
       "    <tr style=\"text-align: right;\">\n",
       "      <th></th>\n",
       "      <th>adgroup_id</th>\n",
       "      <th>cate_id</th>\n",
       "      <th>campaign_id</th>\n",
       "      <th>advertiser_id</th>\n",
       "      <th>brand_id</th>\n",
       "      <th>price</th>\n",
       "      <th>user_id</th>\n",
       "      <th>time_stamp</th>\n",
       "      <th>pid</th>\n",
       "      <th>clk</th>\n",
       "      <th>cms_segid</th>\n",
       "      <th>cms_group_id</th>\n",
       "      <th>gender</th>\n",
       "      <th>age_level</th>\n",
       "      <th>shopping_level</th>\n",
       "      <th>occupation</th>\n",
       "      <th>new_user_class_level</th>\n",
       "      <th>date</th>\n",
       "      <th>time</th>\n",
       "      <th>day</th>\n",
       "    </tr>\n",
       "  </thead>\n",
       "  <tbody>\n",
       "    <tr>\n",
       "      <th>0</th>\n",
       "      <td>19259</td>\n",
       "      <td>10893</td>\n",
       "      <td>46151</td>\n",
       "      <td>130939</td>\n",
       "      <td>353787.0</td>\n",
       "      <td>108.0</td>\n",
       "      <td>383593</td>\n",
       "      <td>1494005921</td>\n",
       "      <td>430548_1007</td>\n",
       "      <td>0</td>\n",
       "      <td>81</td>\n",
       "      <td>10</td>\n",
       "      <td>1</td>\n",
       "      <td>4</td>\n",
       "      <td>3</td>\n",
       "      <td>0</td>\n",
       "      <td>4.0</td>\n",
       "      <td>05-05-2017</td>\n",
       "      <td>17:38:41</td>\n",
       "      <td>5</td>\n",
       "    </tr>\n",
       "    <tr>\n",
       "      <th>1</th>\n",
       "      <td>326437</td>\n",
       "      <td>5920</td>\n",
       "      <td>289598</td>\n",
       "      <td>72366</td>\n",
       "      <td>454237.0</td>\n",
       "      <td>699.0</td>\n",
       "      <td>967836</td>\n",
       "      <td>1494003434</td>\n",
       "      <td>430539_1007</td>\n",
       "      <td>0</td>\n",
       "      <td>43</td>\n",
       "      <td>5</td>\n",
       "      <td>2</td>\n",
       "      <td>5</td>\n",
       "      <td>3</td>\n",
       "      <td>0</td>\n",
       "      <td>1.0</td>\n",
       "      <td>05-05-2017</td>\n",
       "      <td>16:57:14</td>\n",
       "      <td>5</td>\n",
       "    </tr>\n",
       "    <tr>\n",
       "      <th>2</th>\n",
       "      <td>23637</td>\n",
       "      <td>6283</td>\n",
       "      <td>55513</td>\n",
       "      <td>138037</td>\n",
       "      <td>390418.0</td>\n",
       "      <td>176.0</td>\n",
       "      <td>350890</td>\n",
       "      <td>1494000102</td>\n",
       "      <td>430548_1007</td>\n",
       "      <td>0</td>\n",
       "      <td>90</td>\n",
       "      <td>11</td>\n",
       "      <td>1</td>\n",
       "      <td>5</td>\n",
       "      <td>3</td>\n",
       "      <td>0</td>\n",
       "      <td>1.0</td>\n",
       "      <td>05-05-2017</td>\n",
       "      <td>16:01:42</td>\n",
       "      <td>5</td>\n",
       "    </tr>\n",
       "    <tr>\n",
       "      <th>3</th>\n",
       "      <td>666777</td>\n",
       "      <td>4617</td>\n",
       "      <td>83188</td>\n",
       "      <td>155813</td>\n",
       "      <td>135797.0</td>\n",
       "      <td>22.0</td>\n",
       "      <td>1083816</td>\n",
       "      <td>1494024824</td>\n",
       "      <td>430539_1007</td>\n",
       "      <td>0</td>\n",
       "      <td>20</td>\n",
       "      <td>3</td>\n",
       "      <td>2</td>\n",
       "      <td>3</td>\n",
       "      <td>3</td>\n",
       "      <td>0</td>\n",
       "      <td>4.0</td>\n",
       "      <td>05-05-2017</td>\n",
       "      <td>22:53:44</td>\n",
       "      <td>5</td>\n",
       "    </tr>\n",
       "    <tr>\n",
       "      <th>4</th>\n",
       "      <td>361181</td>\n",
       "      <td>6142</td>\n",
       "      <td>172756</td>\n",
       "      <td>189104</td>\n",
       "      <td>376599.0</td>\n",
       "      <td>268.0</td>\n",
       "      <td>881369</td>\n",
       "      <td>1494000242</td>\n",
       "      <td>430539_1007</td>\n",
       "      <td>0</td>\n",
       "      <td>0</td>\n",
       "      <td>2</td>\n",
       "      <td>2</td>\n",
       "      <td>2</td>\n",
       "      <td>3</td>\n",
       "      <td>0</td>\n",
       "      <td>2.0</td>\n",
       "      <td>05-05-2017</td>\n",
       "      <td>16:04:02</td>\n",
       "      <td>5</td>\n",
       "    </tr>\n",
       "  </tbody>\n",
       "</table>\n",
       "</div>"
      ],
      "text/plain": [
       "   adgroup_id  cate_id  campaign_id  advertiser_id  brand_id  price  user_id  \\\n",
       "0       19259    10893        46151         130939  353787.0  108.0   383593   \n",
       "1      326437     5920       289598          72366  454237.0  699.0   967836   \n",
       "2       23637     6283        55513         138037  390418.0  176.0   350890   \n",
       "3      666777     4617        83188         155813  135797.0   22.0  1083816   \n",
       "4      361181     6142       172756         189104  376599.0  268.0   881369   \n",
       "\n",
       "   time_stamp          pid  clk  cms_segid  cms_group_id  gender  age_level  \\\n",
       "0  1494005921  430548_1007    0         81            10       1          4   \n",
       "1  1494003434  430539_1007    0         43             5       2          5   \n",
       "2  1494000102  430548_1007    0         90            11       1          5   \n",
       "3  1494024824  430539_1007    0         20             3       2          3   \n",
       "4  1494000242  430539_1007    0          0             2       2          2   \n",
       "\n",
       "   shopping_level  occupation  new_user_class_level        date      time  day  \n",
       "0               3           0                   4.0  05-05-2017  17:38:41    5  \n",
       "1               3           0                   1.0  05-05-2017  16:57:14    5  \n",
       "2               3           0                   1.0  05-05-2017  16:01:42    5  \n",
       "3               3           0                   4.0  05-05-2017  22:53:44    5  \n",
       "4               3           0                   2.0  05-05-2017  16:04:02    5  "
      ]
     },
     "execution_count": 19,
     "metadata": {},
     "output_type": "execute_result"
    }
   ],
   "source": [
    "taobao_df.head()"
   ]
  },
  {
   "cell_type": "code",
   "execution_count": 20,
   "id": "02e75ebf",
   "metadata": {},
   "outputs": [],
   "source": [
    "taobao_df['new_user_class_level'] = taobao_df['new_user_class_level'].astype(int)\n",
    "taobao_df['brand_id'] = taobao_df['brand_id'].astype(int)"
   ]
  },
  {
   "cell_type": "code",
   "execution_count": 21,
   "id": "9a9b4f46",
   "metadata": {},
   "outputs": [
    {
     "data": {
      "text/plain": [
       "dtype('int32')"
      ]
     },
     "execution_count": 21,
     "metadata": {},
     "output_type": "execute_result"
    }
   ],
   "source": [
    "taobao_df['new_user_class_level'].dtype"
   ]
  },
  {
   "cell_type": "code",
   "execution_count": 22,
   "id": "7fe2d088",
   "metadata": {},
   "outputs": [],
   "source": [
    "#Create dummies for shopping level\n",
    "#Create dummies for shopping level \n",
    "#Create dummies for occupation\n",
    "#Create dummies for new_user_class level"
   ]
  },
  {
   "cell_type": "code",
   "execution_count": 23,
   "id": "98ed3810",
   "metadata": {},
   "outputs": [],
   "source": [
    "cols_to_dummy = ['shopping_level', 'occupation' , 'age_level', 'new_user_class_level', 'gender', 'day']\n",
    "prefix = cols_to_dummy[:]\n",
    "\n",
    "taobao_df = pd.get_dummies(taobao_df, prefix=prefix, prefix_sep='_', columns=cols_to_dummy, drop_first=True)"
   ]
  },
  {
   "cell_type": "code",
   "execution_count": 24,
   "id": "6acccbb0",
   "metadata": {},
   "outputs": [],
   "source": [
    "# logit = LogisticRegression(random_state=SEED)\n",
    "# y=taobao_df['clk']\n",
    "# train = taobao_df[['adgroup_id', 'cate_id', 'campaign_id', 'advertiser_id', 'brand_id', 'user_id', 'pid']]\n",
    "# columns = [i for i in X_train.columns]\n",
    "\n",
    "# X_train, X_val, y_train, y_val = train_test_split(train, y, test_size=0.2, random_state=SEED)"
   ]
  },
  {
   "cell_type": "code",
   "execution_count": 25,
   "id": "9c25fdf9",
   "metadata": {},
   "outputs": [],
   "source": [
    "# targ_enc = TargetEncoder(cols=columns, smoothing=8, min_samples_leaf=5).fit(X_train, y_train)\n",
    "# X_train_te = targ_enc.transform(X_train.reset_index(drop=True))\n",
    "# X_val_te = targ_enc.transform(X_val.reset_index(drop=True))"
   ]
  },
  {
   "cell_type": "code",
   "execution_count": 26,
   "id": "63f02c34",
   "metadata": {},
   "outputs": [],
   "source": [
    "# X_train_te.head()"
   ]
  },
  {
   "cell_type": "code",
   "execution_count": 27,
   "id": "8c895b66",
   "metadata": {},
   "outputs": [],
   "source": [
    "# X_train_te.shape"
   ]
  },
  {
   "cell_type": "code",
   "execution_count": 28,
   "id": "f69f957b",
   "metadata": {},
   "outputs": [],
   "source": [
    "# X_val_te.head()"
   ]
  },
  {
   "cell_type": "code",
   "execution_count": 29,
   "id": "17b09542",
   "metadata": {},
   "outputs": [],
   "source": [
    "# X_val_te.shape"
   ]
  },
  {
   "cell_type": "code",
   "execution_count": 30,
   "id": "b9446233",
   "metadata": {},
   "outputs": [],
   "source": [
    "# def get_score(model, X, y, X_val, y_val):\n",
    "#     model.fit(X, y)\n",
    "#     y_pred = model.predict_proba(X_val)[:,1]\n",
    "#     score = roc_auc_score(y_val, y_pred)\n",
    "#     return score"
   ]
  },
  {
   "cell_type": "code",
   "execution_count": 31,
   "id": "c4007198",
   "metadata": {},
   "outputs": [],
   "source": [
    "# te_logit_score = get_score(logit, X_train_te, y_train, X_val_te, y_val)\n",
    "# print('Logistic Regression score with target encoding:', te_logit_score)"
   ]
  },
  {
   "cell_type": "code",
   "execution_count": 32,
   "id": "1a2ef094",
   "metadata": {},
   "outputs": [
    {
     "data": {
      "text/plain": [
       "adgroup_id                  int64\n",
       "cate_id                     int64\n",
       "campaign_id                 int64\n",
       "advertiser_id               int64\n",
       "brand_id                    int32\n",
       "price                     float64\n",
       "user_id                     int64\n",
       "time_stamp                  int64\n",
       "pid                        object\n",
       "clk                         int64\n",
       "cms_segid                   int64\n",
       "cms_group_id                int64\n",
       "date                       object\n",
       "time                       object\n",
       "shopping_level_2            uint8\n",
       "shopping_level_3            uint8\n",
       "occupation_1                uint8\n",
       "age_level_1                 uint8\n",
       "age_level_2                 uint8\n",
       "age_level_3                 uint8\n",
       "age_level_4                 uint8\n",
       "age_level_5                 uint8\n",
       "age_level_6                 uint8\n",
       "new_user_class_level_2      uint8\n",
       "new_user_class_level_3      uint8\n",
       "new_user_class_level_4      uint8\n",
       "gender_2                    uint8\n",
       "day_6                       uint8\n",
       "day_7                       uint8\n",
       "day_8                       uint8\n",
       "day_9                       uint8\n",
       "day_10                      uint8\n",
       "day_11                      uint8\n",
       "day_12                      uint8\n",
       "day_13                      uint8\n",
       "dtype: object"
      ]
     },
     "execution_count": 32,
     "metadata": {},
     "output_type": "execute_result"
    }
   ],
   "source": [
    "taobao_df.dtypes"
   ]
  },
  {
   "cell_type": "code",
   "execution_count": 33,
   "id": "e493b135",
   "metadata": {},
   "outputs": [],
   "source": [
    "categories = ['adgroup_id', 'cate_id', 'campaign_id', 'advertiser_id','brand_id','user_id','pid','cms_segid','cms_group_id','time']"
   ]
  },
  {
   "cell_type": "code",
   "execution_count": 34,
   "id": "71326bf8",
   "metadata": {},
   "outputs": [],
   "source": [
    "#Converting all the columns in the list above from int to strings, since ints cannot be used for encoding"
   ]
  },
  {
   "cell_type": "code",
   "execution_count": 35,
   "id": "aeeafee2",
   "metadata": {},
   "outputs": [],
   "source": [
    "for i in categories:\n",
    "    taobao_df[i] = taobao_df[i].map(str)"
   ]
  },
  {
   "cell_type": "code",
   "execution_count": 36,
   "id": "e509ffa0",
   "metadata": {},
   "outputs": [
    {
     "data": {
      "text/plain": [
       "adgroup_id                 object\n",
       "cate_id                    object\n",
       "campaign_id                object\n",
       "advertiser_id              object\n",
       "brand_id                   object\n",
       "price                     float64\n",
       "user_id                    object\n",
       "time_stamp                  int64\n",
       "pid                        object\n",
       "clk                         int64\n",
       "cms_segid                  object\n",
       "cms_group_id               object\n",
       "date                       object\n",
       "time                       object\n",
       "shopping_level_2            uint8\n",
       "shopping_level_3            uint8\n",
       "occupation_1                uint8\n",
       "age_level_1                 uint8\n",
       "age_level_2                 uint8\n",
       "age_level_3                 uint8\n",
       "age_level_4                 uint8\n",
       "age_level_5                 uint8\n",
       "age_level_6                 uint8\n",
       "new_user_class_level_2      uint8\n",
       "new_user_class_level_3      uint8\n",
       "new_user_class_level_4      uint8\n",
       "gender_2                    uint8\n",
       "day_6                       uint8\n",
       "day_7                       uint8\n",
       "day_8                       uint8\n",
       "day_9                       uint8\n",
       "day_10                      uint8\n",
       "day_11                      uint8\n",
       "day_12                      uint8\n",
       "day_13                      uint8\n",
       "dtype: object"
      ]
     },
     "execution_count": 36,
     "metadata": {},
     "output_type": "execute_result"
    }
   ],
   "source": [
    "taobao_df.dtypes"
   ]
  },
  {
   "cell_type": "code",
   "execution_count": 37,
   "id": "ecd739cb",
   "metadata": {},
   "outputs": [],
   "source": [
    "encoder = TargetEncoder()\n",
    "for i in categories:\n",
    "    taobao_df[i+'_encoded'] = encoder.fit_transform(taobao_df[i], taobao_df['clk'])"
   ]
  },
  {
   "cell_type": "code",
   "execution_count": 38,
   "id": "750bdf52",
   "metadata": {},
   "outputs": [
    {
     "data": {
      "text/html": [
       "<div>\n",
       "<style scoped>\n",
       "    .dataframe tbody tr th:only-of-type {\n",
       "        vertical-align: middle;\n",
       "    }\n",
       "\n",
       "    .dataframe tbody tr th {\n",
       "        vertical-align: top;\n",
       "    }\n",
       "\n",
       "    .dataframe thead th {\n",
       "        text-align: right;\n",
       "    }\n",
       "</style>\n",
       "<table border=\"1\" class=\"dataframe\">\n",
       "  <thead>\n",
       "    <tr style=\"text-align: right;\">\n",
       "      <th></th>\n",
       "      <th>adgroup_id</th>\n",
       "      <th>cate_id</th>\n",
       "      <th>campaign_id</th>\n",
       "      <th>advertiser_id</th>\n",
       "      <th>brand_id</th>\n",
       "      <th>price</th>\n",
       "      <th>user_id</th>\n",
       "      <th>time_stamp</th>\n",
       "      <th>pid</th>\n",
       "      <th>clk</th>\n",
       "      <th>...</th>\n",
       "      <th>adgroup_id_encoded</th>\n",
       "      <th>cate_id_encoded</th>\n",
       "      <th>campaign_id_encoded</th>\n",
       "      <th>advertiser_id_encoded</th>\n",
       "      <th>brand_id_encoded</th>\n",
       "      <th>user_id_encoded</th>\n",
       "      <th>pid_encoded</th>\n",
       "      <th>cms_segid_encoded</th>\n",
       "      <th>cms_group_id_encoded</th>\n",
       "      <th>time_encoded</th>\n",
       "    </tr>\n",
       "  </thead>\n",
       "  <tbody>\n",
       "    <tr>\n",
       "      <th>0</th>\n",
       "      <td>19259</td>\n",
       "      <td>10893</td>\n",
       "      <td>46151</td>\n",
       "      <td>130939</td>\n",
       "      <td>353787</td>\n",
       "      <td>108.0</td>\n",
       "      <td>383593</td>\n",
       "      <td>1494005921</td>\n",
       "      <td>430548_1007</td>\n",
       "      <td>0</td>\n",
       "      <td>...</td>\n",
       "      <td>0.041012</td>\n",
       "      <td>0.106491</td>\n",
       "      <td>0.041012</td>\n",
       "      <td>0.041012</td>\n",
       "      <td>0.056830</td>\n",
       "      <td>0.045399</td>\n",
       "      <td>0.050498</td>\n",
       "      <td>0.045373</td>\n",
       "      <td>0.047063</td>\n",
       "      <td>0.045399</td>\n",
       "    </tr>\n",
       "    <tr>\n",
       "      <th>1</th>\n",
       "      <td>326437</td>\n",
       "      <td>5920</td>\n",
       "      <td>289598</td>\n",
       "      <td>72366</td>\n",
       "      <td>454237</td>\n",
       "      <td>699.0</td>\n",
       "      <td>967836</td>\n",
       "      <td>1494003434</td>\n",
       "      <td>430539_1007</td>\n",
       "      <td>0</td>\n",
       "      <td>...</td>\n",
       "      <td>0.045399</td>\n",
       "      <td>0.053872</td>\n",
       "      <td>0.045399</td>\n",
       "      <td>0.044786</td>\n",
       "      <td>0.051984</td>\n",
       "      <td>0.045399</td>\n",
       "      <td>0.054907</td>\n",
       "      <td>0.039669</td>\n",
       "      <td>0.055154</td>\n",
       "      <td>0.044786</td>\n",
       "    </tr>\n",
       "    <tr>\n",
       "      <th>2</th>\n",
       "      <td>23637</td>\n",
       "      <td>6283</td>\n",
       "      <td>55513</td>\n",
       "      <td>138037</td>\n",
       "      <td>390418</td>\n",
       "      <td>176.0</td>\n",
       "      <td>350890</td>\n",
       "      <td>1494000102</td>\n",
       "      <td>430548_1007</td>\n",
       "      <td>0</td>\n",
       "      <td>...</td>\n",
       "      <td>0.044786</td>\n",
       "      <td>0.038760</td>\n",
       "      <td>0.044786</td>\n",
       "      <td>0.044786</td>\n",
       "      <td>0.044786</td>\n",
       "      <td>0.044786</td>\n",
       "      <td>0.050498</td>\n",
       "      <td>0.065831</td>\n",
       "      <td>0.051698</td>\n",
       "      <td>0.041865</td>\n",
       "    </tr>\n",
       "    <tr>\n",
       "      <th>3</th>\n",
       "      <td>666777</td>\n",
       "      <td>4617</td>\n",
       "      <td>83188</td>\n",
       "      <td>155813</td>\n",
       "      <td>135797</td>\n",
       "      <td>22.0</td>\n",
       "      <td>1083816</td>\n",
       "      <td>1494024824</td>\n",
       "      <td>430539_1007</td>\n",
       "      <td>0</td>\n",
       "      <td>...</td>\n",
       "      <td>0.044786</td>\n",
       "      <td>0.060140</td>\n",
       "      <td>0.044786</td>\n",
       "      <td>0.044128</td>\n",
       "      <td>0.044128</td>\n",
       "      <td>0.045399</td>\n",
       "      <td>0.054907</td>\n",
       "      <td>0.054169</td>\n",
       "      <td>0.053523</td>\n",
       "      <td>0.044128</td>\n",
       "    </tr>\n",
       "    <tr>\n",
       "      <th>4</th>\n",
       "      <td>361181</td>\n",
       "      <td>6142</td>\n",
       "      <td>172756</td>\n",
       "      <td>189104</td>\n",
       "      <td>376599</td>\n",
       "      <td>268.0</td>\n",
       "      <td>881369</td>\n",
       "      <td>1494000242</td>\n",
       "      <td>430539_1007</td>\n",
       "      <td>0</td>\n",
       "      <td>...</td>\n",
       "      <td>0.045399</td>\n",
       "      <td>0.030928</td>\n",
       "      <td>0.045399</td>\n",
       "      <td>0.045399</td>\n",
       "      <td>0.033103</td>\n",
       "      <td>0.043422</td>\n",
       "      <td>0.054907</td>\n",
       "      <td>0.052034</td>\n",
       "      <td>0.053787</td>\n",
       "      <td>0.085418</td>\n",
       "    </tr>\n",
       "  </tbody>\n",
       "</table>\n",
       "<p>5 rows × 45 columns</p>\n",
       "</div>"
      ],
      "text/plain": [
       "  adgroup_id cate_id campaign_id advertiser_id brand_id  price  user_id  \\\n",
       "0      19259   10893       46151        130939   353787  108.0   383593   \n",
       "1     326437    5920      289598         72366   454237  699.0   967836   \n",
       "2      23637    6283       55513        138037   390418  176.0   350890   \n",
       "3     666777    4617       83188        155813   135797   22.0  1083816   \n",
       "4     361181    6142      172756        189104   376599  268.0   881369   \n",
       "\n",
       "   time_stamp          pid  clk  ... adgroup_id_encoded cate_id_encoded  \\\n",
       "0  1494005921  430548_1007    0  ...           0.041012        0.106491   \n",
       "1  1494003434  430539_1007    0  ...           0.045399        0.053872   \n",
       "2  1494000102  430548_1007    0  ...           0.044786        0.038760   \n",
       "3  1494024824  430539_1007    0  ...           0.044786        0.060140   \n",
       "4  1494000242  430539_1007    0  ...           0.045399        0.030928   \n",
       "\n",
       "  campaign_id_encoded advertiser_id_encoded  brand_id_encoded  \\\n",
       "0            0.041012              0.041012          0.056830   \n",
       "1            0.045399              0.044786          0.051984   \n",
       "2            0.044786              0.044786          0.044786   \n",
       "3            0.044786              0.044128          0.044128   \n",
       "4            0.045399              0.045399          0.033103   \n",
       "\n",
       "   user_id_encoded  pid_encoded  cms_segid_encoded  cms_group_id_encoded  \\\n",
       "0         0.045399     0.050498           0.045373              0.047063   \n",
       "1         0.045399     0.054907           0.039669              0.055154   \n",
       "2         0.044786     0.050498           0.065831              0.051698   \n",
       "3         0.045399     0.054907           0.054169              0.053523   \n",
       "4         0.043422     0.054907           0.052034              0.053787   \n",
       "\n",
       "   time_encoded  \n",
       "0      0.045399  \n",
       "1      0.044786  \n",
       "2      0.041865  \n",
       "3      0.044128  \n",
       "4      0.085418  \n",
       "\n",
       "[5 rows x 45 columns]"
      ]
     },
     "execution_count": 38,
     "metadata": {},
     "output_type": "execute_result"
    }
   ],
   "source": [
    "taobao_df.head()"
   ]
  },
  {
   "cell_type": "code",
   "execution_count": 39,
   "id": "edf37f40",
   "metadata": {},
   "outputs": [],
   "source": [
    "taobao_df.drop(columns=categories, axis=1, inplace=True)\n",
    "taobao_df.drop(columns=['time_stamp', 'date'], axis=1, inplace=True)"
   ]
  },
  {
   "cell_type": "code",
   "execution_count": 40,
   "id": "900665d2",
   "metadata": {},
   "outputs": [
    {
     "data": {
      "text/html": [
       "<div>\n",
       "<style scoped>\n",
       "    .dataframe tbody tr th:only-of-type {\n",
       "        vertical-align: middle;\n",
       "    }\n",
       "\n",
       "    .dataframe tbody tr th {\n",
       "        vertical-align: top;\n",
       "    }\n",
       "\n",
       "    .dataframe thead th {\n",
       "        text-align: right;\n",
       "    }\n",
       "</style>\n",
       "<table border=\"1\" class=\"dataframe\">\n",
       "  <thead>\n",
       "    <tr style=\"text-align: right;\">\n",
       "      <th></th>\n",
       "      <th>price</th>\n",
       "      <th>clk</th>\n",
       "      <th>shopping_level_2</th>\n",
       "      <th>shopping_level_3</th>\n",
       "      <th>occupation_1</th>\n",
       "      <th>age_level_1</th>\n",
       "      <th>age_level_2</th>\n",
       "      <th>age_level_3</th>\n",
       "      <th>age_level_4</th>\n",
       "      <th>age_level_5</th>\n",
       "      <th>...</th>\n",
       "      <th>adgroup_id_encoded</th>\n",
       "      <th>cate_id_encoded</th>\n",
       "      <th>campaign_id_encoded</th>\n",
       "      <th>advertiser_id_encoded</th>\n",
       "      <th>brand_id_encoded</th>\n",
       "      <th>user_id_encoded</th>\n",
       "      <th>pid_encoded</th>\n",
       "      <th>cms_segid_encoded</th>\n",
       "      <th>cms_group_id_encoded</th>\n",
       "      <th>time_encoded</th>\n",
       "    </tr>\n",
       "  </thead>\n",
       "  <tbody>\n",
       "    <tr>\n",
       "      <th>0</th>\n",
       "      <td>108.0</td>\n",
       "      <td>0</td>\n",
       "      <td>0</td>\n",
       "      <td>1</td>\n",
       "      <td>0</td>\n",
       "      <td>0</td>\n",
       "      <td>0</td>\n",
       "      <td>0</td>\n",
       "      <td>1</td>\n",
       "      <td>0</td>\n",
       "      <td>...</td>\n",
       "      <td>0.041012</td>\n",
       "      <td>0.106491</td>\n",
       "      <td>0.041012</td>\n",
       "      <td>0.041012</td>\n",
       "      <td>0.056830</td>\n",
       "      <td>0.045399</td>\n",
       "      <td>0.050498</td>\n",
       "      <td>0.045373</td>\n",
       "      <td>0.047063</td>\n",
       "      <td>0.045399</td>\n",
       "    </tr>\n",
       "    <tr>\n",
       "      <th>1</th>\n",
       "      <td>699.0</td>\n",
       "      <td>0</td>\n",
       "      <td>0</td>\n",
       "      <td>1</td>\n",
       "      <td>0</td>\n",
       "      <td>0</td>\n",
       "      <td>0</td>\n",
       "      <td>0</td>\n",
       "      <td>0</td>\n",
       "      <td>1</td>\n",
       "      <td>...</td>\n",
       "      <td>0.045399</td>\n",
       "      <td>0.053872</td>\n",
       "      <td>0.045399</td>\n",
       "      <td>0.044786</td>\n",
       "      <td>0.051984</td>\n",
       "      <td>0.045399</td>\n",
       "      <td>0.054907</td>\n",
       "      <td>0.039669</td>\n",
       "      <td>0.055154</td>\n",
       "      <td>0.044786</td>\n",
       "    </tr>\n",
       "    <tr>\n",
       "      <th>2</th>\n",
       "      <td>176.0</td>\n",
       "      <td>0</td>\n",
       "      <td>0</td>\n",
       "      <td>1</td>\n",
       "      <td>0</td>\n",
       "      <td>0</td>\n",
       "      <td>0</td>\n",
       "      <td>0</td>\n",
       "      <td>0</td>\n",
       "      <td>1</td>\n",
       "      <td>...</td>\n",
       "      <td>0.044786</td>\n",
       "      <td>0.038760</td>\n",
       "      <td>0.044786</td>\n",
       "      <td>0.044786</td>\n",
       "      <td>0.044786</td>\n",
       "      <td>0.044786</td>\n",
       "      <td>0.050498</td>\n",
       "      <td>0.065831</td>\n",
       "      <td>0.051698</td>\n",
       "      <td>0.041865</td>\n",
       "    </tr>\n",
       "    <tr>\n",
       "      <th>3</th>\n",
       "      <td>22.0</td>\n",
       "      <td>0</td>\n",
       "      <td>0</td>\n",
       "      <td>1</td>\n",
       "      <td>0</td>\n",
       "      <td>0</td>\n",
       "      <td>0</td>\n",
       "      <td>1</td>\n",
       "      <td>0</td>\n",
       "      <td>0</td>\n",
       "      <td>...</td>\n",
       "      <td>0.044786</td>\n",
       "      <td>0.060140</td>\n",
       "      <td>0.044786</td>\n",
       "      <td>0.044128</td>\n",
       "      <td>0.044128</td>\n",
       "      <td>0.045399</td>\n",
       "      <td>0.054907</td>\n",
       "      <td>0.054169</td>\n",
       "      <td>0.053523</td>\n",
       "      <td>0.044128</td>\n",
       "    </tr>\n",
       "    <tr>\n",
       "      <th>4</th>\n",
       "      <td>268.0</td>\n",
       "      <td>0</td>\n",
       "      <td>0</td>\n",
       "      <td>1</td>\n",
       "      <td>0</td>\n",
       "      <td>0</td>\n",
       "      <td>1</td>\n",
       "      <td>0</td>\n",
       "      <td>0</td>\n",
       "      <td>0</td>\n",
       "      <td>...</td>\n",
       "      <td>0.045399</td>\n",
       "      <td>0.030928</td>\n",
       "      <td>0.045399</td>\n",
       "      <td>0.045399</td>\n",
       "      <td>0.033103</td>\n",
       "      <td>0.043422</td>\n",
       "      <td>0.054907</td>\n",
       "      <td>0.052034</td>\n",
       "      <td>0.053787</td>\n",
       "      <td>0.085418</td>\n",
       "    </tr>\n",
       "  </tbody>\n",
       "</table>\n",
       "<p>5 rows × 33 columns</p>\n",
       "</div>"
      ],
      "text/plain": [
       "   price  clk  shopping_level_2  shopping_level_3  occupation_1  age_level_1  \\\n",
       "0  108.0    0                 0                 1             0            0   \n",
       "1  699.0    0                 0                 1             0            0   \n",
       "2  176.0    0                 0                 1             0            0   \n",
       "3   22.0    0                 0                 1             0            0   \n",
       "4  268.0    0                 0                 1             0            0   \n",
       "\n",
       "   age_level_2  age_level_3  age_level_4  age_level_5  ...  \\\n",
       "0            0            0            1            0  ...   \n",
       "1            0            0            0            1  ...   \n",
       "2            0            0            0            1  ...   \n",
       "3            0            1            0            0  ...   \n",
       "4            1            0            0            0  ...   \n",
       "\n",
       "   adgroup_id_encoded  cate_id_encoded  campaign_id_encoded  \\\n",
       "0            0.041012         0.106491             0.041012   \n",
       "1            0.045399         0.053872             0.045399   \n",
       "2            0.044786         0.038760             0.044786   \n",
       "3            0.044786         0.060140             0.044786   \n",
       "4            0.045399         0.030928             0.045399   \n",
       "\n",
       "   advertiser_id_encoded  brand_id_encoded  user_id_encoded  pid_encoded  \\\n",
       "0               0.041012          0.056830         0.045399     0.050498   \n",
       "1               0.044786          0.051984         0.045399     0.054907   \n",
       "2               0.044786          0.044786         0.044786     0.050498   \n",
       "3               0.044128          0.044128         0.045399     0.054907   \n",
       "4               0.045399          0.033103         0.043422     0.054907   \n",
       "\n",
       "   cms_segid_encoded  cms_group_id_encoded  time_encoded  \n",
       "0           0.045373              0.047063      0.045399  \n",
       "1           0.039669              0.055154      0.044786  \n",
       "2           0.065831              0.051698      0.041865  \n",
       "3           0.054169              0.053523      0.044128  \n",
       "4           0.052034              0.053787      0.085418  \n",
       "\n",
       "[5 rows x 33 columns]"
      ]
     },
     "execution_count": 40,
     "metadata": {},
     "output_type": "execute_result"
    }
   ],
   "source": [
    "taobao_df.head()"
   ]
  },
  {
   "cell_type": "code",
   "execution_count": 41,
   "id": "9607ab88",
   "metadata": {
    "scrolled": true
   },
   "outputs": [
    {
     "data": {
      "text/html": [
       "<div>\n",
       "<style scoped>\n",
       "    .dataframe tbody tr th:only-of-type {\n",
       "        vertical-align: middle;\n",
       "    }\n",
       "\n",
       "    .dataframe tbody tr th {\n",
       "        vertical-align: top;\n",
       "    }\n",
       "\n",
       "    .dataframe thead th {\n",
       "        text-align: right;\n",
       "    }\n",
       "</style>\n",
       "<table border=\"1\" class=\"dataframe\">\n",
       "  <thead>\n",
       "    <tr style=\"text-align: right;\">\n",
       "      <th></th>\n",
       "      <th>price</th>\n",
       "      <th>clk</th>\n",
       "      <th>shopping_level_2</th>\n",
       "      <th>shopping_level_3</th>\n",
       "      <th>occupation_1</th>\n",
       "      <th>age_level_1</th>\n",
       "      <th>age_level_2</th>\n",
       "      <th>age_level_3</th>\n",
       "      <th>age_level_4</th>\n",
       "      <th>age_level_5</th>\n",
       "      <th>...</th>\n",
       "      <th>adgroup_id_encoded</th>\n",
       "      <th>cate_id_encoded</th>\n",
       "      <th>campaign_id_encoded</th>\n",
       "      <th>advertiser_id_encoded</th>\n",
       "      <th>brand_id_encoded</th>\n",
       "      <th>user_id_encoded</th>\n",
       "      <th>pid_encoded</th>\n",
       "      <th>cms_segid_encoded</th>\n",
       "      <th>cms_group_id_encoded</th>\n",
       "      <th>time_encoded</th>\n",
       "    </tr>\n",
       "  </thead>\n",
       "  <tbody>\n",
       "    <tr>\n",
       "      <th>0</th>\n",
       "      <td>108.0</td>\n",
       "      <td>0</td>\n",
       "      <td>0</td>\n",
       "      <td>1</td>\n",
       "      <td>0</td>\n",
       "      <td>0</td>\n",
       "      <td>0</td>\n",
       "      <td>0</td>\n",
       "      <td>1</td>\n",
       "      <td>0</td>\n",
       "      <td>...</td>\n",
       "      <td>0.041012</td>\n",
       "      <td>0.106491</td>\n",
       "      <td>0.041012</td>\n",
       "      <td>0.041012</td>\n",
       "      <td>0.056830</td>\n",
       "      <td>0.045399</td>\n",
       "      <td>0.050498</td>\n",
       "      <td>0.045373</td>\n",
       "      <td>0.047063</td>\n",
       "      <td>0.045399</td>\n",
       "    </tr>\n",
       "    <tr>\n",
       "      <th>1</th>\n",
       "      <td>699.0</td>\n",
       "      <td>0</td>\n",
       "      <td>0</td>\n",
       "      <td>1</td>\n",
       "      <td>0</td>\n",
       "      <td>0</td>\n",
       "      <td>0</td>\n",
       "      <td>0</td>\n",
       "      <td>0</td>\n",
       "      <td>1</td>\n",
       "      <td>...</td>\n",
       "      <td>0.045399</td>\n",
       "      <td>0.053872</td>\n",
       "      <td>0.045399</td>\n",
       "      <td>0.044786</td>\n",
       "      <td>0.051984</td>\n",
       "      <td>0.045399</td>\n",
       "      <td>0.054907</td>\n",
       "      <td>0.039669</td>\n",
       "      <td>0.055154</td>\n",
       "      <td>0.044786</td>\n",
       "    </tr>\n",
       "    <tr>\n",
       "      <th>2</th>\n",
       "      <td>176.0</td>\n",
       "      <td>0</td>\n",
       "      <td>0</td>\n",
       "      <td>1</td>\n",
       "      <td>0</td>\n",
       "      <td>0</td>\n",
       "      <td>0</td>\n",
       "      <td>0</td>\n",
       "      <td>0</td>\n",
       "      <td>1</td>\n",
       "      <td>...</td>\n",
       "      <td>0.044786</td>\n",
       "      <td>0.038760</td>\n",
       "      <td>0.044786</td>\n",
       "      <td>0.044786</td>\n",
       "      <td>0.044786</td>\n",
       "      <td>0.044786</td>\n",
       "      <td>0.050498</td>\n",
       "      <td>0.065831</td>\n",
       "      <td>0.051698</td>\n",
       "      <td>0.041865</td>\n",
       "    </tr>\n",
       "    <tr>\n",
       "      <th>3</th>\n",
       "      <td>22.0</td>\n",
       "      <td>0</td>\n",
       "      <td>0</td>\n",
       "      <td>1</td>\n",
       "      <td>0</td>\n",
       "      <td>0</td>\n",
       "      <td>0</td>\n",
       "      <td>1</td>\n",
       "      <td>0</td>\n",
       "      <td>0</td>\n",
       "      <td>...</td>\n",
       "      <td>0.044786</td>\n",
       "      <td>0.060140</td>\n",
       "      <td>0.044786</td>\n",
       "      <td>0.044128</td>\n",
       "      <td>0.044128</td>\n",
       "      <td>0.045399</td>\n",
       "      <td>0.054907</td>\n",
       "      <td>0.054169</td>\n",
       "      <td>0.053523</td>\n",
       "      <td>0.044128</td>\n",
       "    </tr>\n",
       "    <tr>\n",
       "      <th>4</th>\n",
       "      <td>268.0</td>\n",
       "      <td>0</td>\n",
       "      <td>0</td>\n",
       "      <td>1</td>\n",
       "      <td>0</td>\n",
       "      <td>0</td>\n",
       "      <td>1</td>\n",
       "      <td>0</td>\n",
       "      <td>0</td>\n",
       "      <td>0</td>\n",
       "      <td>...</td>\n",
       "      <td>0.045399</td>\n",
       "      <td>0.030928</td>\n",
       "      <td>0.045399</td>\n",
       "      <td>0.045399</td>\n",
       "      <td>0.033103</td>\n",
       "      <td>0.043422</td>\n",
       "      <td>0.054907</td>\n",
       "      <td>0.052034</td>\n",
       "      <td>0.053787</td>\n",
       "      <td>0.085418</td>\n",
       "    </tr>\n",
       "  </tbody>\n",
       "</table>\n",
       "<p>5 rows × 33 columns</p>\n",
       "</div>"
      ],
      "text/plain": [
       "   price  clk  shopping_level_2  shopping_level_3  occupation_1  age_level_1  \\\n",
       "0  108.0    0                 0                 1             0            0   \n",
       "1  699.0    0                 0                 1             0            0   \n",
       "2  176.0    0                 0                 1             0            0   \n",
       "3   22.0    0                 0                 1             0            0   \n",
       "4  268.0    0                 0                 1             0            0   \n",
       "\n",
       "   age_level_2  age_level_3  age_level_4  age_level_5  ...  \\\n",
       "0            0            0            1            0  ...   \n",
       "1            0            0            0            1  ...   \n",
       "2            0            0            0            1  ...   \n",
       "3            0            1            0            0  ...   \n",
       "4            1            0            0            0  ...   \n",
       "\n",
       "   adgroup_id_encoded  cate_id_encoded  campaign_id_encoded  \\\n",
       "0            0.041012         0.106491             0.041012   \n",
       "1            0.045399         0.053872             0.045399   \n",
       "2            0.044786         0.038760             0.044786   \n",
       "3            0.044786         0.060140             0.044786   \n",
       "4            0.045399         0.030928             0.045399   \n",
       "\n",
       "   advertiser_id_encoded  brand_id_encoded  user_id_encoded  pid_encoded  \\\n",
       "0               0.041012          0.056830         0.045399     0.050498   \n",
       "1               0.044786          0.051984         0.045399     0.054907   \n",
       "2               0.044786          0.044786         0.044786     0.050498   \n",
       "3               0.044128          0.044128         0.045399     0.054907   \n",
       "4               0.045399          0.033103         0.043422     0.054907   \n",
       "\n",
       "   cms_segid_encoded  cms_group_id_encoded  time_encoded  \n",
       "0           0.045373              0.047063      0.045399  \n",
       "1           0.039669              0.055154      0.044786  \n",
       "2           0.065831              0.051698      0.041865  \n",
       "3           0.054169              0.053523      0.044128  \n",
       "4           0.052034              0.053787      0.085418  \n",
       "\n",
       "[5 rows x 33 columns]"
      ]
     },
     "execution_count": 41,
     "metadata": {},
     "output_type": "execute_result"
    }
   ],
   "source": [
    "taobao_df.head()"
   ]
  },
  {
   "cell_type": "code",
   "execution_count": 42,
   "id": "e772cfc6",
   "metadata": {
    "scrolled": true
   },
   "outputs": [
    {
     "data": {
      "text/plain": [
       "price                     float64\n",
       "clk                         int64\n",
       "shopping_level_2            uint8\n",
       "shopping_level_3            uint8\n",
       "occupation_1                uint8\n",
       "age_level_1                 uint8\n",
       "age_level_2                 uint8\n",
       "age_level_3                 uint8\n",
       "age_level_4                 uint8\n",
       "age_level_5                 uint8\n",
       "age_level_6                 uint8\n",
       "new_user_class_level_2      uint8\n",
       "new_user_class_level_3      uint8\n",
       "new_user_class_level_4      uint8\n",
       "gender_2                    uint8\n",
       "day_6                       uint8\n",
       "day_7                       uint8\n",
       "day_8                       uint8\n",
       "day_9                       uint8\n",
       "day_10                      uint8\n",
       "day_11                      uint8\n",
       "day_12                      uint8\n",
       "day_13                      uint8\n",
       "adgroup_id_encoded        float64\n",
       "cate_id_encoded           float64\n",
       "campaign_id_encoded       float64\n",
       "advertiser_id_encoded     float64\n",
       "brand_id_encoded          float64\n",
       "user_id_encoded           float64\n",
       "pid_encoded               float64\n",
       "cms_segid_encoded         float64\n",
       "cms_group_id_encoded      float64\n",
       "time_encoded              float64\n",
       "dtype: object"
      ]
     },
     "execution_count": 42,
     "metadata": {},
     "output_type": "execute_result"
    }
   ],
   "source": [
    "taobao_df.dtypes"
   ]
  },
  {
   "cell_type": "code",
   "execution_count": 95,
   "id": "489429d5",
   "metadata": {},
   "outputs": [],
   "source": [
    "taobao_df.to_csv('taobao_encoded.csv', index=False)"
   ]
  },
  {
   "cell_type": "code",
   "execution_count": 43,
   "id": "5a2c2cd3",
   "metadata": {},
   "outputs": [],
   "source": [
    "from sklearn.model_selection import train_test_split"
   ]
  },
  {
   "cell_type": "code",
   "execution_count": 44,
   "id": "a2e3fe91",
   "metadata": {},
   "outputs": [],
   "source": [
    "X = taobao_df.drop(['clk'], axis=1)\n",
    "y = taobao_df['clk']"
   ]
  },
  {
   "cell_type": "code",
   "execution_count": 45,
   "id": "3e58ecd3",
   "metadata": {},
   "outputs": [],
   "source": [
    "X_train, X_test, y_train, y_test = train_test_split(X, y, test_size=0.30)"
   ]
  },
  {
   "cell_type": "markdown",
   "id": "0a1760b1",
   "metadata": {},
   "source": [
    "For the random forest classificer I decided to start off with this model because I expected it to have the fastest computation time out of the three model I'm using. It is an ensemble of a decision trees so it runs well in parallel. For the hyperparameters I'm most curious to see if the bootstrap has any major affects on the outcome. Plus, since random forest partitions and does not measure distances between the data points the data does not need to be scaled. "
   ]
  },
  {
   "cell_type": "code",
   "execution_count": 46,
   "id": "592a5440",
   "metadata": {},
   "outputs": [
    {
     "name": "stdout",
     "output_type": "stream",
     "text": [
      "Fitting 5 folds for each of 10 candidates, totalling 50 fits\n"
     ]
    },
    {
     "data": {
      "text/html": [
       "<style>#sk-container-id-1 {color: black;}#sk-container-id-1 pre{padding: 0;}#sk-container-id-1 div.sk-toggleable {background-color: white;}#sk-container-id-1 label.sk-toggleable__label {cursor: pointer;display: block;width: 100%;margin-bottom: 0;padding: 0.3em;box-sizing: border-box;text-align: center;}#sk-container-id-1 label.sk-toggleable__label-arrow:before {content: \"▸\";float: left;margin-right: 0.25em;color: #696969;}#sk-container-id-1 label.sk-toggleable__label-arrow:hover:before {color: black;}#sk-container-id-1 div.sk-estimator:hover label.sk-toggleable__label-arrow:before {color: black;}#sk-container-id-1 div.sk-toggleable__content {max-height: 0;max-width: 0;overflow: hidden;text-align: left;background-color: #f0f8ff;}#sk-container-id-1 div.sk-toggleable__content pre {margin: 0.2em;color: black;border-radius: 0.25em;background-color: #f0f8ff;}#sk-container-id-1 input.sk-toggleable__control:checked~div.sk-toggleable__content {max-height: 200px;max-width: 100%;overflow: auto;}#sk-container-id-1 input.sk-toggleable__control:checked~label.sk-toggleable__label-arrow:before {content: \"▾\";}#sk-container-id-1 div.sk-estimator input.sk-toggleable__control:checked~label.sk-toggleable__label {background-color: #d4ebff;}#sk-container-id-1 div.sk-label input.sk-toggleable__control:checked~label.sk-toggleable__label {background-color: #d4ebff;}#sk-container-id-1 input.sk-hidden--visually {border: 0;clip: rect(1px 1px 1px 1px);clip: rect(1px, 1px, 1px, 1px);height: 1px;margin: -1px;overflow: hidden;padding: 0;position: absolute;width: 1px;}#sk-container-id-1 div.sk-estimator {font-family: monospace;background-color: #f0f8ff;border: 1px dotted black;border-radius: 0.25em;box-sizing: border-box;margin-bottom: 0.5em;}#sk-container-id-1 div.sk-estimator:hover {background-color: #d4ebff;}#sk-container-id-1 div.sk-parallel-item::after {content: \"\";width: 100%;border-bottom: 1px solid gray;flex-grow: 1;}#sk-container-id-1 div.sk-label:hover label.sk-toggleable__label {background-color: #d4ebff;}#sk-container-id-1 div.sk-serial::before {content: \"\";position: absolute;border-left: 1px solid gray;box-sizing: border-box;top: 0;bottom: 0;left: 50%;z-index: 0;}#sk-container-id-1 div.sk-serial {display: flex;flex-direction: column;align-items: center;background-color: white;padding-right: 0.2em;padding-left: 0.2em;position: relative;}#sk-container-id-1 div.sk-item {position: relative;z-index: 1;}#sk-container-id-1 div.sk-parallel {display: flex;align-items: stretch;justify-content: center;background-color: white;position: relative;}#sk-container-id-1 div.sk-item::before, #sk-container-id-1 div.sk-parallel-item::before {content: \"\";position: absolute;border-left: 1px solid gray;box-sizing: border-box;top: 0;bottom: 0;left: 50%;z-index: -1;}#sk-container-id-1 div.sk-parallel-item {display: flex;flex-direction: column;z-index: 1;position: relative;background-color: white;}#sk-container-id-1 div.sk-parallel-item:first-child::after {align-self: flex-end;width: 50%;}#sk-container-id-1 div.sk-parallel-item:last-child::after {align-self: flex-start;width: 50%;}#sk-container-id-1 div.sk-parallel-item:only-child::after {width: 0;}#sk-container-id-1 div.sk-dashed-wrapped {border: 1px dashed gray;margin: 0 0.4em 0.5em 0.4em;box-sizing: border-box;padding-bottom: 0.4em;background-color: white;}#sk-container-id-1 div.sk-label label {font-family: monospace;font-weight: bold;display: inline-block;line-height: 1.2em;}#sk-container-id-1 div.sk-label-container {text-align: center;}#sk-container-id-1 div.sk-container {/* jupyter's `normalize.less` sets `[hidden] { display: none; }` but bootstrap.min.css set `[hidden] { display: none !important; }` so we also need the `!important` here to be able to override the default hidden behavior on the sphinx rendered scikit-learn.org. See: https://github.com/scikit-learn/scikit-learn/issues/21755 */display: inline-block !important;position: relative;}#sk-container-id-1 div.sk-text-repr-fallback {display: none;}</style><div id=\"sk-container-id-1\" class=\"sk-top-container\"><div class=\"sk-text-repr-fallback\"><pre>RandomizedSearchCV(estimator=RandomForestClassifier(), n_jobs=6,\n",
       "                   param_distributions={&#x27;bootstrap&#x27;: [True, False],\n",
       "                                        &#x27;criterion&#x27;: [&#x27;gini&#x27;, &#x27;entropy&#x27;,\n",
       "                                                      &#x27;log_loss&#x27;],\n",
       "                                        &#x27;max_features&#x27;: [&#x27;sqrt&#x27;, &#x27;log2&#x27;],\n",
       "                                        &#x27;min_samples_leaf&#x27;: [1, 2, 3]},\n",
       "                   verbose=True)</pre><b>In a Jupyter environment, please rerun this cell to show the HTML representation or trust the notebook. <br />On GitHub, the HTML representation is unable to render, please try loading this page with nbviewer.org.</b></div><div class=\"sk-container\" hidden><div class=\"sk-item sk-dashed-wrapped\"><div class=\"sk-label-container\"><div class=\"sk-label sk-toggleable\"><input class=\"sk-toggleable__control sk-hidden--visually\" id=\"sk-estimator-id-1\" type=\"checkbox\" ><label for=\"sk-estimator-id-1\" class=\"sk-toggleable__label sk-toggleable__label-arrow\">RandomizedSearchCV</label><div class=\"sk-toggleable__content\"><pre>RandomizedSearchCV(estimator=RandomForestClassifier(), n_jobs=6,\n",
       "                   param_distributions={&#x27;bootstrap&#x27;: [True, False],\n",
       "                                        &#x27;criterion&#x27;: [&#x27;gini&#x27;, &#x27;entropy&#x27;,\n",
       "                                                      &#x27;log_loss&#x27;],\n",
       "                                        &#x27;max_features&#x27;: [&#x27;sqrt&#x27;, &#x27;log2&#x27;],\n",
       "                                        &#x27;min_samples_leaf&#x27;: [1, 2, 3]},\n",
       "                   verbose=True)</pre></div></div></div><div class=\"sk-parallel\"><div class=\"sk-parallel-item\"><div class=\"sk-item\"><div class=\"sk-label-container\"><div class=\"sk-label sk-toggleable\"><input class=\"sk-toggleable__control sk-hidden--visually\" id=\"sk-estimator-id-2\" type=\"checkbox\" ><label for=\"sk-estimator-id-2\" class=\"sk-toggleable__label sk-toggleable__label-arrow\">estimator: RandomForestClassifier</label><div class=\"sk-toggleable__content\"><pre>RandomForestClassifier()</pre></div></div></div><div class=\"sk-serial\"><div class=\"sk-item\"><div class=\"sk-estimator sk-toggleable\"><input class=\"sk-toggleable__control sk-hidden--visually\" id=\"sk-estimator-id-3\" type=\"checkbox\" ><label for=\"sk-estimator-id-3\" class=\"sk-toggleable__label sk-toggleable__label-arrow\">RandomForestClassifier</label><div class=\"sk-toggleable__content\"><pre>RandomForestClassifier()</pre></div></div></div></div></div></div></div></div></div></div>"
      ],
      "text/plain": [
       "RandomizedSearchCV(estimator=RandomForestClassifier(), n_jobs=6,\n",
       "                   param_distributions={'bootstrap': [True, False],\n",
       "                                        'criterion': ['gini', 'entropy',\n",
       "                                                      'log_loss'],\n",
       "                                        'max_features': ['sqrt', 'log2'],\n",
       "                                        'min_samples_leaf': [1, 2, 3]},\n",
       "                   verbose=True)"
      ]
     },
     "execution_count": 46,
     "metadata": {},
     "output_type": "execute_result"
    }
   ],
   "source": [
    "from sklearn.model_selection import RandomizedSearchCV\n",
    "from sklearn.ensemble import RandomForestClassifier\n",
    "params_rf = {\"bootstrap\":[True, False],\n",
    "          \"max_features\":['sqrt', 'log2'],\n",
    "          \"criterion\":['gini', 'entropy', 'log_loss'],\n",
    "          \"min_samples_leaf\": [1, 2, 3],\n",
    "        }\n",
    "rf_model = RandomForestClassifier()\n",
    "random_search_rf = RandomizedSearchCV(rf_model, param_distributions=params_rf, n_jobs=6, verbose=True)\n",
    "random_search_rf.fit(X_train, y_train)"
   ]
  },
  {
   "cell_type": "code",
   "execution_count": 97,
   "id": "2bed50bb",
   "metadata": {},
   "outputs": [
    {
     "data": {
      "text/plain": [
       "{'min_samples_leaf': 3,\n",
       " 'max_features': 'log2',\n",
       " 'criterion': 'entropy',\n",
       " 'bootstrap': True}"
      ]
     },
     "execution_count": 97,
     "metadata": {},
     "output_type": "execute_result"
    }
   ],
   "source": [
    "random_search_rf.best_params_"
   ]
  },
  {
   "cell_type": "code",
   "execution_count": 48,
   "id": "e86262c5",
   "metadata": {},
   "outputs": [
    {
     "data": {
      "text/plain": [
       "0.9972108793030003"
      ]
     },
     "execution_count": 48,
     "metadata": {},
     "output_type": "execute_result"
    }
   ],
   "source": [
    "random_search_rf.best_score_"
   ]
  },
  {
   "cell_type": "code",
   "execution_count": 100,
   "id": "d2796e80",
   "metadata": {},
   "outputs": [],
   "source": [
    "best_rf_model = random_search_rf.best_estimator_"
   ]
  },
  {
   "cell_type": "code",
   "execution_count": 101,
   "id": "56e248ac",
   "metadata": {},
   "outputs": [],
   "source": [
    "y_pred_test = best_rf_model.predict(X_test)"
   ]
  },
  {
   "cell_type": "code",
   "execution_count": 102,
   "id": "79136427",
   "metadata": {},
   "outputs": [
    {
     "data": {
      "text/plain": [
       "0.9971596784645718"
      ]
     },
     "execution_count": 102,
     "metadata": {},
     "output_type": "execute_result"
    }
   ],
   "source": [
    "from sklearn.metrics import accuracy_score, confusion_matrix, classification_report, ConfusionMatrixDisplay\n",
    "accuracy_score(y_test, y_pred_test)"
   ]
  },
  {
   "cell_type": "code",
   "execution_count": 103,
   "id": "4377a919",
   "metadata": {},
   "outputs": [],
   "source": [
    "cm = confusion_matrix(y_test, y_pred_test)"
   ]
  },
  {
   "cell_type": "code",
   "execution_count": 104,
   "id": "926261d3",
   "metadata": {
    "scrolled": true
   },
   "outputs": [
    {
     "data": {
      "image/png": "[encoded data removed]",
      "text/plain": [
       "<Figure size 450x450 with 2 Axes>"
      ]
     },
     "metadata": {},
     "output_type": "display_data"
    }
   ],
   "source": [
    "cm_display = ConfusionMatrixDisplay(cm, display_labels=[False, True])\n",
    "cm_display.plot()\n",
    "plt.show()"
   ]
  },
  {
   "cell_type": "code",
   "execution_count": 112,
   "id": "dbf78305",
   "metadata": {},
   "outputs": [
    {
     "data": {
      "text/plain": [
       "{'mean_fit_time': array([14.5573175 ,  7.34437594, 11.07952366,  9.34625473, 15.66315241,\n",
       "        11.66967182,  7.73178706,  7.73551183,  7.24567943,  9.16486573]),\n",
       " 'std_fit_time': array([0.25029253, 0.19008222, 0.19551459, 0.32272086, 0.33491434,\n",
       "        0.25266388, 0.24354584, 0.40500554, 0.16154144, 0.2359713 ]),\n",
       " 'mean_score_time': array([0.34712062, 0.25697312, 0.32318311, 0.25630574, 0.40817695,\n",
       "        0.33881202, 0.27196479, 0.24533277, 0.24952946, 0.23029623]),\n",
       " 'std_score_time': array([0.01270763, 0.00994473, 0.01233549, 0.01256165, 0.03678896,\n",
       "        0.00416242, 0.04106742, 0.01114443, 0.01366213, 0.04096795]),\n",
       " 'param_min_samples_leaf': masked_array(data=[2, 1, 3, 2, 3, 2, 3, 3, 1, 1],\n",
       "              mask=[False, False, False, False, False, False, False, False,\n",
       "                    False, False],\n",
       "        fill_value='?',\n",
       "             dtype=object),\n",
       " 'param_max_features': masked_array(data=['sqrt', 'log2', 'log2', 'log2', 'log2', 'sqrt', 'sqrt',\n",
       "                    'log2', 'sqrt', 'log2'],\n",
       "              mask=[False, False, False, False, False, False, False, False,\n",
       "                    False, False],\n",
       "        fill_value='?',\n",
       "             dtype=object),\n",
       " 'param_criterion': masked_array(data=['gini', 'entropy', 'gini', 'entropy', 'gini', 'gini',\n",
       "                    'log_loss', 'entropy', 'entropy', 'log_loss'],\n",
       "              mask=[False, False, False, False, False, False, False, False,\n",
       "                    False, False],\n",
       "        fill_value='?',\n",
       "             dtype=object),\n",
       " 'param_bootstrap': masked_array(data=[False, True, True, False, False, True, True, True,\n",
       "                    True, False],\n",
       "              mask=[False, False, False, False, False, False, False, False,\n",
       "                    False, False],\n",
       "        fill_value='?',\n",
       "             dtype=object),\n",
       " 'params': [{'min_samples_leaf': 2,\n",
       "   'max_features': 'sqrt',\n",
       "   'criterion': 'gini',\n",
       "   'bootstrap': False},\n",
       "  {'min_samples_leaf': 1,\n",
       "   'max_features': 'log2',\n",
       "   'criterion': 'entropy',\n",
       "   'bootstrap': True},\n",
       "  {'min_samples_leaf': 3,\n",
       "   'max_features': 'log2',\n",
       "   'criterion': 'gini',\n",
       "   'bootstrap': True},\n",
       "  {'min_samples_leaf': 2,\n",
       "   'max_features': 'log2',\n",
       "   'criterion': 'entropy',\n",
       "   'bootstrap': False},\n",
       "  {'min_samples_leaf': 3,\n",
       "   'max_features': 'log2',\n",
       "   'criterion': 'gini',\n",
       "   'bootstrap': False},\n",
       "  {'min_samples_leaf': 2,\n",
       "   'max_features': 'sqrt',\n",
       "   'criterion': 'gini',\n",
       "   'bootstrap': True},\n",
       "  {'min_samples_leaf': 3,\n",
       "   'max_features': 'sqrt',\n",
       "   'criterion': 'log_loss',\n",
       "   'bootstrap': True},\n",
       "  {'min_samples_leaf': 3,\n",
       "   'max_features': 'log2',\n",
       "   'criterion': 'entropy',\n",
       "   'bootstrap': True},\n",
       "  {'min_samples_leaf': 1,\n",
       "   'max_features': 'sqrt',\n",
       "   'criterion': 'entropy',\n",
       "   'bootstrap': True},\n",
       "  {'min_samples_leaf': 1,\n",
       "   'max_features': 'log2',\n",
       "   'criterion': 'log_loss',\n",
       "   'bootstrap': False}],\n",
       " 'split0_test_score': array([0.99666135, 0.99683862, 0.99660226, 0.9966318 , 0.9966318 ,\n",
       "        0.99672044, 0.99680908, 0.99686817, 0.99677953, 0.99674999]),\n",
       " 'split1_test_score': array([0.99737044, 0.99742953, 0.99716362, 0.99728181, 0.99704544,\n",
       "        0.99716362, 0.99742953, 0.99737044, 0.99737044, 0.99728181]),\n",
       " 'split2_test_score': array([0.9969568 , 0.99692726, 0.99689771, 0.99710453, 0.9970159 ,\n",
       "        0.99704544, 0.99716362, 0.99716362, 0.99719317, 0.99707499]),\n",
       " 'split3_test_score': array([0.99710453, 0.99742953, 0.9970159 , 0.99754772, 0.99704544,\n",
       "        0.99704544, 0.99760681, 0.99754772, 0.99742953, 0.99751817]),\n",
       " 'split4_test_score': array([0.99648397, 0.99701581, 0.99660216, 0.99689762, 0.99645442,\n",
       "        0.99654306, 0.99701581, 0.99710445, 0.99704535, 0.99686808]),\n",
       " 'mean_test_score': array([0.99691542, 0.99712815, 0.99685633, 0.9970927 , 0.9968386 ,\n",
       "        0.9969036 , 0.99720497, 0.99721088, 0.99716361, 0.9970986 ]),\n",
       " 'std_test_score': array([0.00031471, 0.00025238, 0.00022395, 0.00031414, 0.00024793,\n",
       "        0.00023297, 0.000285  , 0.00023235, 0.00023489, 0.00027743]),\n",
       " 'rank_test_score': array([ 7,  4,  9,  6, 10,  8,  2,  1,  3,  5])}"
      ]
     },
     "execution_count": 112,
     "metadata": {},
     "output_type": "execute_result"
    }
   ],
   "source": [
    "random_search_rf.cv_results_"
   ]
  },
  {
   "cell_type": "code",
   "execution_count": 55,
   "id": "aab2174e",
   "metadata": {},
   "outputs": [],
   "source": [
    "from sklearn.preprocessing import StandardScaler\n",
    "scaler = StandardScaler()\n",
    "X_train_scaled = scaler.fit_transform(X_train)\n",
    "X_test_scaled = scaler.fit_transform(X_test)"
   ]
  },
  {
   "cell_type": "markdown",
   "id": "8e13fbe7",
   "metadata": {},
   "source": [
    "Logiestic regression is used for classification problems, espescially for binary classification problems. Since we're determining 1's and 0's as our target label in this scenerio I believe it would be a very well suited model to predict whether users would click on an ad. Since this model is essentially made for binary classification problems I predict it would have the best performing score out of the three. By default logistic regression uses the 'lbfgs' solver but the sklearn documentation stated that the 'sag' and 'saga' solvers are better choices for large datasets. The documents also mentioned 'newton-cholesky' as a good option for datasets where n_samples > n_features, especially features that are one-hot encoded and it is limited to binary classification. Thus, I decided to choose those three as my solver hyperparameter. As for the max_iter parameter, since the dataset is so large I run into the issue of the solvers not converging. By default the 'max_iter' hyperparameter is set to 100 but I made it 15000 to ensure it converges. "
   ]
  },
  {
   "cell_type": "code",
   "execution_count": 76,
   "id": "a798aaed",
   "metadata": {},
   "outputs": [
    {
     "name": "stdout",
     "output_type": "stream",
     "text": [
      "Fitting 5 folds for each of 10 candidates, totalling 50 fits\n"
     ]
    }
   ],
   "source": [
    "from sklearn.linear_model import LogisticRegression\n",
    "from sklearn.model_selection import RandomizedSearchCV\n",
    "\n",
    "params_lr = {\"C\":[0.01, 0.1, 1, 10, 100],\n",
    "          \"penalty\":['l2'],\n",
    "          \"solver\":['newton-cholesky', 'sag', 'saga'],\n",
    "          \"max_iter\":[15000]\n",
    "        }\n",
    "\n",
    "lr_model = LogisticRegression()\n",
    "random_search_lr = RandomizedSearchCV(lr_model, param_distributions=params_lr, n_iter=10, n_jobs=6, cv=5, verbose=1)\n",
    "lr_results = random_search_lr.fit(X_train_scaled, y_train)"
   ]
  },
  {
   "cell_type": "code",
   "execution_count": 77,
   "id": "1c06dd1a",
   "metadata": {},
   "outputs": [
    {
     "data": {
      "text/plain": [
       "0.9935590232215233"
      ]
     },
     "execution_count": 77,
     "metadata": {},
     "output_type": "execute_result"
    }
   ],
   "source": [
    "random_search_lr.best_score_"
   ]
  },
  {
   "cell_type": "code",
   "execution_count": 91,
   "id": "31ee7f23",
   "metadata": {},
   "outputs": [
    {
     "data": {
      "text/plain": [
       "array([0, 0, 0, ..., 0, 0, 0], dtype=int64)"
      ]
     },
     "execution_count": 91,
     "metadata": {},
     "output_type": "execute_result"
    }
   ],
   "source": [
    "random_search_lr.predict(X_test_scaled)"
   ]
  },
  {
   "cell_type": "code",
   "execution_count": 92,
   "id": "ff05753a",
   "metadata": {},
   "outputs": [],
   "source": [
    "#lr_score = random_search_lr.score(X_test_scaled, y_test)"
   ]
  },
  {
   "cell_type": "code",
   "execution_count": 105,
   "id": "c4cdce9b",
   "metadata": {},
   "outputs": [],
   "source": [
    "best_lr_model = random_search_rf.best_estimator_"
   ]
  },
  {
   "cell_type": "code",
   "execution_count": 106,
   "id": "d703bab3",
   "metadata": {},
   "outputs": [],
   "source": [
    "y_lr_pred = best_lr_model.predict(X_test)"
   ]
  },
  {
   "cell_type": "code",
   "execution_count": 108,
   "id": "4a46d5b5",
   "metadata": {},
   "outputs": [],
   "source": [
    "lr_score = random_search_lr.score(X_test_scaled, y_test)"
   ]
  },
  {
   "cell_type": "code",
   "execution_count": 109,
   "id": "ff6bb869",
   "metadata": {},
   "outputs": [
    {
     "name": "stdout",
     "output_type": "stream",
     "text": [
      "0.993312835219987\n"
     ]
    }
   ],
   "source": [
    "print(lr_score)"
   ]
  },
  {
   "cell_type": "code",
   "execution_count": 87,
   "id": "c713e80c",
   "metadata": {},
   "outputs": [
    {
     "data": {
      "text/html": [
       "<style>#sk-container-id-4 {color: black;}#sk-container-id-4 pre{padding: 0;}#sk-container-id-4 div.sk-toggleable {background-color: white;}#sk-container-id-4 label.sk-toggleable__label {cursor: pointer;display: block;width: 100%;margin-bottom: 0;padding: 0.3em;box-sizing: border-box;text-align: center;}#sk-container-id-4 label.sk-toggleable__label-arrow:before {content: \"▸\";float: left;margin-right: 0.25em;color: #696969;}#sk-container-id-4 label.sk-toggleable__label-arrow:hover:before {color: black;}#sk-container-id-4 div.sk-estimator:hover label.sk-toggleable__label-arrow:before {color: black;}#sk-container-id-4 div.sk-toggleable__content {max-height: 0;max-width: 0;overflow: hidden;text-align: left;background-color: #f0f8ff;}#sk-container-id-4 div.sk-toggleable__content pre {margin: 0.2em;color: black;border-radius: 0.25em;background-color: #f0f8ff;}#sk-container-id-4 input.sk-toggleable__control:checked~div.sk-toggleable__content {max-height: 200px;max-width: 100%;overflow: auto;}#sk-container-id-4 input.sk-toggleable__control:checked~label.sk-toggleable__label-arrow:before {content: \"▾\";}#sk-container-id-4 div.sk-estimator input.sk-toggleable__control:checked~label.sk-toggleable__label {background-color: #d4ebff;}#sk-container-id-4 div.sk-label input.sk-toggleable__control:checked~label.sk-toggleable__label {background-color: #d4ebff;}#sk-container-id-4 input.sk-hidden--visually {border: 0;clip: rect(1px 1px 1px 1px);clip: rect(1px, 1px, 1px, 1px);height: 1px;margin: -1px;overflow: hidden;padding: 0;position: absolute;width: 1px;}#sk-container-id-4 div.sk-estimator {font-family: monospace;background-color: #f0f8ff;border: 1px dotted black;border-radius: 0.25em;box-sizing: border-box;margin-bottom: 0.5em;}#sk-container-id-4 div.sk-estimator:hover {background-color: #d4ebff;}#sk-container-id-4 div.sk-parallel-item::after {content: \"\";width: 100%;border-bottom: 1px solid gray;flex-grow: 1;}#sk-container-id-4 div.sk-label:hover label.sk-toggleable__label {background-color: #d4ebff;}#sk-container-id-4 div.sk-serial::before {content: \"\";position: absolute;border-left: 1px solid gray;box-sizing: border-box;top: 0;bottom: 0;left: 50%;z-index: 0;}#sk-container-id-4 div.sk-serial {display: flex;flex-direction: column;align-items: center;background-color: white;padding-right: 0.2em;padding-left: 0.2em;position: relative;}#sk-container-id-4 div.sk-item {position: relative;z-index: 1;}#sk-container-id-4 div.sk-parallel {display: flex;align-items: stretch;justify-content: center;background-color: white;position: relative;}#sk-container-id-4 div.sk-item::before, #sk-container-id-4 div.sk-parallel-item::before {content: \"\";position: absolute;border-left: 1px solid gray;box-sizing: border-box;top: 0;bottom: 0;left: 50%;z-index: -1;}#sk-container-id-4 div.sk-parallel-item {display: flex;flex-direction: column;z-index: 1;position: relative;background-color: white;}#sk-container-id-4 div.sk-parallel-item:first-child::after {align-self: flex-end;width: 50%;}#sk-container-id-4 div.sk-parallel-item:last-child::after {align-self: flex-start;width: 50%;}#sk-container-id-4 div.sk-parallel-item:only-child::after {width: 0;}#sk-container-id-4 div.sk-dashed-wrapped {border: 1px dashed gray;margin: 0 0.4em 0.5em 0.4em;box-sizing: border-box;padding-bottom: 0.4em;background-color: white;}#sk-container-id-4 div.sk-label label {font-family: monospace;font-weight: bold;display: inline-block;line-height: 1.2em;}#sk-container-id-4 div.sk-label-container {text-align: center;}#sk-container-id-4 div.sk-container {/* jupyter's `normalize.less` sets `[hidden] { display: none; }` but bootstrap.min.css set `[hidden] { display: none !important; }` so we also need the `!important` here to be able to override the default hidden behavior on the sphinx rendered scikit-learn.org. See: https://github.com/scikit-learn/scikit-learn/issues/21755 */display: inline-block !important;position: relative;}#sk-container-id-4 div.sk-text-repr-fallback {display: none;}</style><div id=\"sk-container-id-4\" class=\"sk-top-container\"><div class=\"sk-text-repr-fallback\"><pre>LogisticRegression(C=0.1, max_iter=15000, solver=&#x27;newton-cholesky&#x27;)</pre><b>In a Jupyter environment, please rerun this cell to show the HTML representation or trust the notebook. <br />On GitHub, the HTML representation is unable to render, please try loading this page with nbviewer.org.</b></div><div class=\"sk-container\" hidden><div class=\"sk-item\"><div class=\"sk-estimator sk-toggleable\"><input class=\"sk-toggleable__control sk-hidden--visually\" id=\"sk-estimator-id-8\" type=\"checkbox\" checked><label for=\"sk-estimator-id-8\" class=\"sk-toggleable__label sk-toggleable__label-arrow\">LogisticRegression</label><div class=\"sk-toggleable__content\"><pre>LogisticRegression(C=0.1, max_iter=15000, solver=&#x27;newton-cholesky&#x27;)</pre></div></div></div></div></div>"
      ],
      "text/plain": [
       "LogisticRegression(C=0.1, max_iter=15000, solver='newton-cholesky')"
      ]
     },
     "execution_count": 87,
     "metadata": {},
     "output_type": "execute_result"
    }
   ],
   "source": [
    "random_search_lr.best_estimator_"
   ]
  },
  {
   "cell_type": "code",
   "execution_count": 111,
   "id": "8a84a558",
   "metadata": {},
   "outputs": [
    {
     "data": {
      "text/plain": [
       "{'mean_fit_time': array([3.13384948, 1.08945022, 1.78221617, 2.41679463, 2.36109362,\n",
       "        3.1624752 , 1.25573888, 5.44762611, 1.50154071, 1.2707571 ]),\n",
       " 'std_fit_time': array([0.12288432, 0.3562814 , 0.08711601, 0.18416298, 0.2380423 ,\n",
       "        0.4545083 , 0.04168722, 0.32365455, 0.16618604, 0.07797046]),\n",
       " 'mean_score_time': array([0.00540495, 0.005405  , 0.00500493, 0.00400405, 0.00400405,\n",
       "        0.00400324, 0.00480456, 0.00400352, 0.00360327, 0.00380354]),\n",
       " 'std_score_time': array([0.00080037, 0.00206092, 0.00126603, 0.00063301, 0.00063316,\n",
       "        0.00109637, 0.00074927, 0.00063324, 0.00049051, 0.00040033]),\n",
       " 'param_solver': masked_array(data=['saga', 'newton-cholesky', 'newton-cholesky', 'sag',\n",
       "                    'sag', 'sag', 'newton-cholesky', 'saga', 'sag', 'saga'],\n",
       "              mask=[False, False, False, False, False, False, False, False,\n",
       "                    False, False],\n",
       "        fill_value='?',\n",
       "             dtype=object),\n",
       " 'param_penalty': masked_array(data=['l2', 'l2', 'l2', 'l2', 'l2', 'l2', 'l2', 'l2', 'l2',\n",
       "                    'l2'],\n",
       "              mask=[False, False, False, False, False, False, False, False,\n",
       "                    False, False],\n",
       "        fill_value='?',\n",
       "             dtype=object),\n",
       " 'param_max_iter': masked_array(data=[15000, 15000, 15000, 15000, 15000, 15000, 15000, 15000,\n",
       "                    15000, 15000],\n",
       "              mask=[False, False, False, False, False, False, False, False,\n",
       "                    False, False],\n",
       "        fill_value='?',\n",
       "             dtype=object),\n",
       " 'param_C': masked_array(data=[0.1, 0.1, 1, 1, 100, 10, 100, 100, 0.1, 0.01],\n",
       "              mask=[False, False, False, False, False, False, False, False,\n",
       "                    False, False],\n",
       "        fill_value='?',\n",
       "             dtype=object),\n",
       " 'params': [{'solver': 'saga', 'penalty': 'l2', 'max_iter': 15000, 'C': 0.1},\n",
       "  {'solver': 'newton-cholesky', 'penalty': 'l2', 'max_iter': 15000, 'C': 0.1},\n",
       "  {'solver': 'newton-cholesky', 'penalty': 'l2', 'max_iter': 15000, 'C': 1},\n",
       "  {'solver': 'sag', 'penalty': 'l2', 'max_iter': 15000, 'C': 1},\n",
       "  {'solver': 'sag', 'penalty': 'l2', 'max_iter': 15000, 'C': 100},\n",
       "  {'solver': 'sag', 'penalty': 'l2', 'max_iter': 15000, 'C': 10},\n",
       "  {'solver': 'newton-cholesky', 'penalty': 'l2', 'max_iter': 15000, 'C': 100},\n",
       "  {'solver': 'saga', 'penalty': 'l2', 'max_iter': 15000, 'C': 100},\n",
       "  {'solver': 'sag', 'penalty': 'l2', 'max_iter': 15000, 'C': 0.1},\n",
       "  {'solver': 'saga', 'penalty': 'l2', 'max_iter': 15000, 'C': 0.01}],\n",
       " 'split0_test_score': array([0.99382497, 0.99385452, 0.99376588, 0.99376588, 0.99379543,\n",
       "        0.99379543, 0.99376588, 0.99379543, 0.99382497, 0.99338179]),\n",
       " 'split1_test_score': array([0.99349997, 0.99349997, 0.99358861, 0.99358861, 0.99355906,\n",
       "        0.99355906, 0.99355906, 0.99355906, 0.99349997, 0.99347042]),\n",
       " 'split2_test_score': array([0.99320451, 0.99320451, 0.99323406, 0.99320451, 0.99317497,\n",
       "        0.99317497, 0.99317497, 0.99317497, 0.99320451, 0.99311588]),\n",
       " 'split3_test_score': array([0.99373634, 0.99373634, 0.99370679, 0.99370679, 0.99367724,\n",
       "        0.99370679, 0.99370679, 0.99370679, 0.99373634, 0.99341133]),\n",
       " 'split4_test_score': array([0.99349978, 0.99349978, 0.99347023, 0.99347023, 0.99347023,\n",
       "        0.99347023, 0.99347023, 0.99347023, 0.99349978, 0.99355887]),\n",
       " 'mean_test_score': array([0.99355311, 0.99355902, 0.99355311, 0.9935472 , 0.99353539,\n",
       "        0.9935413 , 0.99353539, 0.9935413 , 0.99355311, 0.99338766]),\n",
       " 'std_test_score': array([0.00021664, 0.00022425, 0.00018911, 0.00019918, 0.00021093,\n",
       "        0.00021519, 0.00020843, 0.00021519, 0.00021664, 0.00014874]),\n",
       " 'rank_test_score': array([ 2,  1,  4,  5,  8,  6,  8,  6,  2, 10])}"
      ]
     },
     "execution_count": 111,
     "metadata": {},
     "output_type": "execute_result"
    }
   ],
   "source": [
    "random_search_lr.cv_results_"
   ]
  },
  {
   "cell_type": "code",
   "execution_count": 57,
   "id": "ac3b6da5",
   "metadata": {},
   "outputs": [
    {
     "name": "stdout",
     "output_type": "stream",
     "text": [
      "Fitting 5 folds for each of 10 candidates, totalling 50 fits\n"
     ]
    },
    {
     "data": {
      "text/html": [
       "<style>#sk-container-id-3 {color: black;}#sk-container-id-3 pre{padding: 0;}#sk-container-id-3 div.sk-toggleable {background-color: white;}#sk-container-id-3 label.sk-toggleable__label {cursor: pointer;display: block;width: 100%;margin-bottom: 0;padding: 0.3em;box-sizing: border-box;text-align: center;}#sk-container-id-3 label.sk-toggleable__label-arrow:before {content: \"▸\";float: left;margin-right: 0.25em;color: #696969;}#sk-container-id-3 label.sk-toggleable__label-arrow:hover:before {color: black;}#sk-container-id-3 div.sk-estimator:hover label.sk-toggleable__label-arrow:before {color: black;}#sk-container-id-3 div.sk-toggleable__content {max-height: 0;max-width: 0;overflow: hidden;text-align: left;background-color: #f0f8ff;}#sk-container-id-3 div.sk-toggleable__content pre {margin: 0.2em;color: black;border-radius: 0.25em;background-color: #f0f8ff;}#sk-container-id-3 input.sk-toggleable__control:checked~div.sk-toggleable__content {max-height: 200px;max-width: 100%;overflow: auto;}#sk-container-id-3 input.sk-toggleable__control:checked~label.sk-toggleable__label-arrow:before {content: \"▾\";}#sk-container-id-3 div.sk-estimator input.sk-toggleable__control:checked~label.sk-toggleable__label {background-color: #d4ebff;}#sk-container-id-3 div.sk-label input.sk-toggleable__control:checked~label.sk-toggleable__label {background-color: #d4ebff;}#sk-container-id-3 input.sk-hidden--visually {border: 0;clip: rect(1px 1px 1px 1px);clip: rect(1px, 1px, 1px, 1px);height: 1px;margin: -1px;overflow: hidden;padding: 0;position: absolute;width: 1px;}#sk-container-id-3 div.sk-estimator {font-family: monospace;background-color: #f0f8ff;border: 1px dotted black;border-radius: 0.25em;box-sizing: border-box;margin-bottom: 0.5em;}#sk-container-id-3 div.sk-estimator:hover {background-color: #d4ebff;}#sk-container-id-3 div.sk-parallel-item::after {content: \"\";width: 100%;border-bottom: 1px solid gray;flex-grow: 1;}#sk-container-id-3 div.sk-label:hover label.sk-toggleable__label {background-color: #d4ebff;}#sk-container-id-3 div.sk-serial::before {content: \"\";position: absolute;border-left: 1px solid gray;box-sizing: border-box;top: 0;bottom: 0;left: 50%;z-index: 0;}#sk-container-id-3 div.sk-serial {display: flex;flex-direction: column;align-items: center;background-color: white;padding-right: 0.2em;padding-left: 0.2em;position: relative;}#sk-container-id-3 div.sk-item {position: relative;z-index: 1;}#sk-container-id-3 div.sk-parallel {display: flex;align-items: stretch;justify-content: center;background-color: white;position: relative;}#sk-container-id-3 div.sk-item::before, #sk-container-id-3 div.sk-parallel-item::before {content: \"\";position: absolute;border-left: 1px solid gray;box-sizing: border-box;top: 0;bottom: 0;left: 50%;z-index: -1;}#sk-container-id-3 div.sk-parallel-item {display: flex;flex-direction: column;z-index: 1;position: relative;background-color: white;}#sk-container-id-3 div.sk-parallel-item:first-child::after {align-self: flex-end;width: 50%;}#sk-container-id-3 div.sk-parallel-item:last-child::after {align-self: flex-start;width: 50%;}#sk-container-id-3 div.sk-parallel-item:only-child::after {width: 0;}#sk-container-id-3 div.sk-dashed-wrapped {border: 1px dashed gray;margin: 0 0.4em 0.5em 0.4em;box-sizing: border-box;padding-bottom: 0.4em;background-color: white;}#sk-container-id-3 div.sk-label label {font-family: monospace;font-weight: bold;display: inline-block;line-height: 1.2em;}#sk-container-id-3 div.sk-label-container {text-align: center;}#sk-container-id-3 div.sk-container {/* jupyter's `normalize.less` sets `[hidden] { display: none; }` but bootstrap.min.css set `[hidden] { display: none !important; }` so we also need the `!important` here to be able to override the default hidden behavior on the sphinx rendered scikit-learn.org. See: https://github.com/scikit-learn/scikit-learn/issues/21755 */display: inline-block !important;position: relative;}#sk-container-id-3 div.sk-text-repr-fallback {display: none;}</style><div id=\"sk-container-id-3\" class=\"sk-top-container\"><div class=\"sk-text-repr-fallback\"><pre>RandomizedSearchCV(estimator=SVC(), n_jobs=6,\n",
       "                   param_distributions={&#x27;C&#x27;: [0.1, 1, 10, 100],\n",
       "                                        &#x27;gamma&#x27;: [1, 0.1, 0.01],\n",
       "                                        &#x27;kernel&#x27;: [&#x27;linear&#x27;]},\n",
       "                   verbose=True)</pre><b>In a Jupyter environment, please rerun this cell to show the HTML representation or trust the notebook. <br />On GitHub, the HTML representation is unable to render, please try loading this page with nbviewer.org.</b></div><div class=\"sk-container\" hidden><div class=\"sk-item sk-dashed-wrapped\"><div class=\"sk-label-container\"><div class=\"sk-label sk-toggleable\"><input class=\"sk-toggleable__control sk-hidden--visually\" id=\"sk-estimator-id-5\" type=\"checkbox\" ><label for=\"sk-estimator-id-5\" class=\"sk-toggleable__label sk-toggleable__label-arrow\">RandomizedSearchCV</label><div class=\"sk-toggleable__content\"><pre>RandomizedSearchCV(estimator=SVC(), n_jobs=6,\n",
       "                   param_distributions={&#x27;C&#x27;: [0.1, 1, 10, 100],\n",
       "                                        &#x27;gamma&#x27;: [1, 0.1, 0.01],\n",
       "                                        &#x27;kernel&#x27;: [&#x27;linear&#x27;]},\n",
       "                   verbose=True)</pre></div></div></div><div class=\"sk-parallel\"><div class=\"sk-parallel-item\"><div class=\"sk-item\"><div class=\"sk-label-container\"><div class=\"sk-label sk-toggleable\"><input class=\"sk-toggleable__control sk-hidden--visually\" id=\"sk-estimator-id-6\" type=\"checkbox\" ><label for=\"sk-estimator-id-6\" class=\"sk-toggleable__label sk-toggleable__label-arrow\">estimator: SVC</label><div class=\"sk-toggleable__content\"><pre>SVC()</pre></div></div></div><div class=\"sk-serial\"><div class=\"sk-item\"><div class=\"sk-estimator sk-toggleable\"><input class=\"sk-toggleable__control sk-hidden--visually\" id=\"sk-estimator-id-7\" type=\"checkbox\" ><label for=\"sk-estimator-id-7\" class=\"sk-toggleable__label sk-toggleable__label-arrow\">SVC</label><div class=\"sk-toggleable__content\"><pre>SVC()</pre></div></div></div></div></div></div></div></div></div></div>"
      ],
      "text/plain": [
       "RandomizedSearchCV(estimator=SVC(), n_jobs=6,\n",
       "                   param_distributions={'C': [0.1, 1, 10, 100],\n",
       "                                        'gamma': [1, 0.1, 0.01],\n",
       "                                        'kernel': ['linear']},\n",
       "                   verbose=True)"
      ]
     },
     "execution_count": 57,
     "metadata": {},
     "output_type": "execute_result"
    }
   ],
   "source": [
    "from sklearn.model_selection import RandomizedSearchCV\n",
    "from sklearn.svm import SVC\n",
    "params_svc = {\"C\": [0.1, 1, 10, 100], \n",
    "              \"gamma\": [1, 0.1, 0.01],\n",
    "              \"kernel\": ['linear']} \n",
    "\n",
    "svc_model = SVC()\n",
    "random_search_svc = RandomizedSearchCV(svc_model, param_distributions=params_svc, n_jobs=6, verbose=True)\n",
    "random_search_svc.fit(X_train_scaled, y_train)"
   ]
  },
  {
   "cell_type": "code",
   "execution_count": 58,
   "id": "639317cd",
   "metadata": {},
   "outputs": [
    {
     "data": {
      "text/plain": [
       "0.9936062968620473"
      ]
     },
     "execution_count": 58,
     "metadata": {},
     "output_type": "execute_result"
    }
   ],
   "source": [
    "random_search_svc.best_score_"
   ]
  },
  {
   "cell_type": "code",
   "execution_count": 71,
   "id": "b14ce754",
   "metadata": {},
   "outputs": [
    {
     "data": {
      "text/plain": [
       "array([0, 0, 0, ..., 0, 0, 0], dtype=int64)"
      ]
     },
     "execution_count": 71,
     "metadata": {},
     "output_type": "execute_result"
    }
   ],
   "source": [
    "random_search_svc.predict(X_test_scaled)"
   ]
  },
  {
   "cell_type": "code",
   "execution_count": 72,
   "id": "285f5cd5",
   "metadata": {},
   "outputs": [],
   "source": [
    "svc_score = random_search_svc.score(X_test_scaled, y_test)"
   ]
  },
  {
   "cell_type": "code",
   "execution_count": 73,
   "id": "b08ec727",
   "metadata": {},
   "outputs": [
    {
     "name": "stdout",
     "output_type": "stream",
     "text": [
      "0.9934093510003171\n"
     ]
    }
   ],
   "source": [
    "print(svc_score)"
   ]
  },
  {
   "cell_type": "code",
   "execution_count": 90,
   "id": "9506e487",
   "metadata": {},
   "outputs": [
    {
     "data": {
      "text/html": [
       "<style>#sk-container-id-6 {color: black;}#sk-container-id-6 pre{padding: 0;}#sk-container-id-6 div.sk-toggleable {background-color: white;}#sk-container-id-6 label.sk-toggleable__label {cursor: pointer;display: block;width: 100%;margin-bottom: 0;padding: 0.3em;box-sizing: border-box;text-align: center;}#sk-container-id-6 label.sk-toggleable__label-arrow:before {content: \"▸\";float: left;margin-right: 0.25em;color: #696969;}#sk-container-id-6 label.sk-toggleable__label-arrow:hover:before {color: black;}#sk-container-id-6 div.sk-estimator:hover label.sk-toggleable__label-arrow:before {color: black;}#sk-container-id-6 div.sk-toggleable__content {max-height: 0;max-width: 0;overflow: hidden;text-align: left;background-color: #f0f8ff;}#sk-container-id-6 div.sk-toggleable__content pre {margin: 0.2em;color: black;border-radius: 0.25em;background-color: #f0f8ff;}#sk-container-id-6 input.sk-toggleable__control:checked~div.sk-toggleable__content {max-height: 200px;max-width: 100%;overflow: auto;}#sk-container-id-6 input.sk-toggleable__control:checked~label.sk-toggleable__label-arrow:before {content: \"▾\";}#sk-container-id-6 div.sk-estimator input.sk-toggleable__control:checked~label.sk-toggleable__label {background-color: #d4ebff;}#sk-container-id-6 div.sk-label input.sk-toggleable__control:checked~label.sk-toggleable__label {background-color: #d4ebff;}#sk-container-id-6 input.sk-hidden--visually {border: 0;clip: rect(1px 1px 1px 1px);clip: rect(1px, 1px, 1px, 1px);height: 1px;margin: -1px;overflow: hidden;padding: 0;position: absolute;width: 1px;}#sk-container-id-6 div.sk-estimator {font-family: monospace;background-color: #f0f8ff;border: 1px dotted black;border-radius: 0.25em;box-sizing: border-box;margin-bottom: 0.5em;}#sk-container-id-6 div.sk-estimator:hover {background-color: #d4ebff;}#sk-container-id-6 div.sk-parallel-item::after {content: \"\";width: 100%;border-bottom: 1px solid gray;flex-grow: 1;}#sk-container-id-6 div.sk-label:hover label.sk-toggleable__label {background-color: #d4ebff;}#sk-container-id-6 div.sk-serial::before {content: \"\";position: absolute;border-left: 1px solid gray;box-sizing: border-box;top: 0;bottom: 0;left: 50%;z-index: 0;}#sk-container-id-6 div.sk-serial {display: flex;flex-direction: column;align-items: center;background-color: white;padding-right: 0.2em;padding-left: 0.2em;position: relative;}#sk-container-id-6 div.sk-item {position: relative;z-index: 1;}#sk-container-id-6 div.sk-parallel {display: flex;align-items: stretch;justify-content: center;background-color: white;position: relative;}#sk-container-id-6 div.sk-item::before, #sk-container-id-6 div.sk-parallel-item::before {content: \"\";position: absolute;border-left: 1px solid gray;box-sizing: border-box;top: 0;bottom: 0;left: 50%;z-index: -1;}#sk-container-id-6 div.sk-parallel-item {display: flex;flex-direction: column;z-index: 1;position: relative;background-color: white;}#sk-container-id-6 div.sk-parallel-item:first-child::after {align-self: flex-end;width: 50%;}#sk-container-id-6 div.sk-parallel-item:last-child::after {align-self: flex-start;width: 50%;}#sk-container-id-6 div.sk-parallel-item:only-child::after {width: 0;}#sk-container-id-6 div.sk-dashed-wrapped {border: 1px dashed gray;margin: 0 0.4em 0.5em 0.4em;box-sizing: border-box;padding-bottom: 0.4em;background-color: white;}#sk-container-id-6 div.sk-label label {font-family: monospace;font-weight: bold;display: inline-block;line-height: 1.2em;}#sk-container-id-6 div.sk-label-container {text-align: center;}#sk-container-id-6 div.sk-container {/* jupyter's `normalize.less` sets `[hidden] { display: none; }` but bootstrap.min.css set `[hidden] { display: none !important; }` so we also need the `!important` here to be able to override the default hidden behavior on the sphinx rendered scikit-learn.org. See: https://github.com/scikit-learn/scikit-learn/issues/21755 */display: inline-block !important;position: relative;}#sk-container-id-6 div.sk-text-repr-fallback {display: none;}</style><div id=\"sk-container-id-6\" class=\"sk-top-container\"><div class=\"sk-text-repr-fallback\"><pre>SVC(C=100, gamma=1, kernel=&#x27;linear&#x27;)</pre><b>In a Jupyter environment, please rerun this cell to show the HTML representation or trust the notebook. <br />On GitHub, the HTML representation is unable to render, please try loading this page with nbviewer.org.</b></div><div class=\"sk-container\" hidden><div class=\"sk-item\"><div class=\"sk-estimator sk-toggleable\"><input class=\"sk-toggleable__control sk-hidden--visually\" id=\"sk-estimator-id-10\" type=\"checkbox\" checked><label for=\"sk-estimator-id-10\" class=\"sk-toggleable__label sk-toggleable__label-arrow\">SVC</label><div class=\"sk-toggleable__content\"><pre>SVC(C=100, gamma=1, kernel=&#x27;linear&#x27;)</pre></div></div></div></div></div>"
      ],
      "text/plain": [
       "SVC(C=100, gamma=1, kernel='linear')"
      ]
     },
     "execution_count": 90,
     "metadata": {},
     "output_type": "execute_result"
    }
   ],
   "source": [
    "random_search_svc.best_estimator_"
   ]
  },
  {
   "cell_type": "code",
   "execution_count": 110,
   "id": "c033f4da",
   "metadata": {},
   "outputs": [
    {
     "data": {
      "text/plain": [
       "{'mean_fit_time': array([5524.22719398,   32.34238825, 5491.35822048,   30.52792506,\n",
       "         698.07444735,  110.61362534,   94.82412763, 4320.09228168,\n",
       "         569.09825287,   90.20216098]),\n",
       " 'std_fit_time': array([ 95.67382882,   1.95039935,  87.54958824,   1.60096362,\n",
       "         19.97846715,   6.95541741,   4.74532237, 560.40613401,\n",
       "         33.90854555,   5.65018165]),\n",
       " 'mean_score_time': array([2.23689246, 2.26530657, 1.91878681, 2.15005274, 2.18044744,\n",
       "        2.21281142, 1.97585101, 1.54058776, 1.80237513, 1.82459884]),\n",
       " 'std_score_time': array([0.11910233, 0.13265615, 0.19005465, 0.10984764, 0.02641944,\n",
       "        0.04097371, 0.1059777 , 0.25949242, 0.13224896, 0.07369646]),\n",
       " 'param_kernel': masked_array(data=['linear', 'linear', 'linear', 'linear', 'linear',\n",
       "                    'linear', 'linear', 'linear', 'linear', 'linear'],\n",
       "              mask=[False, False, False, False, False, False, False, False,\n",
       "                    False, False],\n",
       "        fill_value='?',\n",
       "             dtype=object),\n",
       " 'param_gamma': masked_array(data=[1, 1, 0.1, 0.01, 1, 1, 0.1, 0.01, 0.01, 0.01],\n",
       "              mask=[False, False, False, False, False, False, False, False,\n",
       "                    False, False],\n",
       "        fill_value='?',\n",
       "             dtype=object),\n",
       " 'param_C': masked_array(data=[100, 0.1, 100, 0.1, 10, 1, 1, 100, 10, 1],\n",
       "              mask=[False, False, False, False, False, False, False, False,\n",
       "                    False, False],\n",
       "        fill_value='?',\n",
       "             dtype=object),\n",
       " 'params': [{'kernel': 'linear', 'gamma': 1, 'C': 100},\n",
       "  {'kernel': 'linear', 'gamma': 1, 'C': 0.1},\n",
       "  {'kernel': 'linear', 'gamma': 0.1, 'C': 100},\n",
       "  {'kernel': 'linear', 'gamma': 0.01, 'C': 0.1},\n",
       "  {'kernel': 'linear', 'gamma': 1, 'C': 10},\n",
       "  {'kernel': 'linear', 'gamma': 1, 'C': 1},\n",
       "  {'kernel': 'linear', 'gamma': 0.1, 'C': 1},\n",
       "  {'kernel': 'linear', 'gamma': 0.01, 'C': 100},\n",
       "  {'kernel': 'linear', 'gamma': 0.01, 'C': 10},\n",
       "  {'kernel': 'linear', 'gamma': 0.01, 'C': 1}],\n",
       " 'split0_test_score': array([0.99382497, 0.99382497, 0.99382497, 0.99382497, 0.99379543,\n",
       "        0.99379543, 0.99379543, 0.99382497, 0.99379543, 0.99379543]),\n",
       " 'split1_test_score': array([0.99349997, 0.99341133, 0.99349997, 0.99341133, 0.99349997,\n",
       "        0.99347042, 0.99347042, 0.99349997, 0.99349997, 0.99347042]),\n",
       " 'split2_test_score': array([0.99329315, 0.99335224, 0.99329315, 0.99335224, 0.99329315,\n",
       "        0.99329315, 0.99329315, 0.99329315, 0.99329315, 0.99329315]),\n",
       " 'split3_test_score': array([0.99379543, 0.99376588, 0.99379543, 0.99376588, 0.99379543,\n",
       "        0.99379543, 0.99379543, 0.99379543, 0.99379543, 0.99379543]),\n",
       " 'split4_test_score': array([0.99361796, 0.99358842, 0.99361796, 0.99358842, 0.99361796,\n",
       "        0.99361796, 0.99361796, 0.99361796, 0.99361796, 0.99361796]),\n",
       " 'mean_test_score': array([0.9936063 , 0.99358857, 0.9936063 , 0.99358857, 0.99360039,\n",
       "        0.99359448, 0.99359448, 0.9936063 , 0.99360039, 0.99359448]),\n",
       " 'std_test_score': array([0.00019651, 0.00018686, 0.00019651, 0.00018686, 0.00019019,\n",
       "        0.00019365, 0.00019365, 0.00019651, 0.00019019, 0.00019365]),\n",
       " 'rank_test_score': array([1, 9, 1, 9, 4, 6, 6, 1, 4, 6])}"
      ]
     },
     "execution_count": 110,
     "metadata": {},
     "output_type": "execute_result"
    }
   ],
   "source": [
    "random_search_svc.cv_results_"
   ]
  },
  {
   "cell_type": "code",
   "execution_count": null,
   "id": "19d0db69",
   "metadata": {},
   "outputs": [],
   "source": []
  }
 ],
 "metadata": {
  "kernelspec": {
   "display_name": "Python 3 (ipykernel)",
   "language": "python",
   "name": "python3"
  },
  "language_info": {
   "codemirror_mode": {
    "name": "ipython",
    "version": 3
   },
   "file_extension": ".py",
   "mimetype": "text/x-python",
   "name": "python",
   "nbconvert_exporter": "python",
   "pygments_lexer": "ipython3",
   "version": "3.11.4"
  }
 },
 "nbformat": 4,
 "nbformat_minor": 5
}

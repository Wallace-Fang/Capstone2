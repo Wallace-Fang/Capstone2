{
 "cells": [
  {
   "cell_type": "code",
   "execution_count": 88,
   "id": "17f254fd",
   "metadata": {},
   "outputs": [],
   "source": [
    "import pandas as pd\n",
    "import matplotlib.pyplot as plt\n",
    "from sklearn.impute import KNNImputer\n",
    "\n",
    "#Reading in the three data files\n",
    "raw_sample_data = pd.read_csv(\"raw_sample.csv\")\n",
    "ad_feature_data = pd.read_csv(\"ad_feature.csv\")\n",
    "user_profile_data = pd.read_csv(\"user_profile.csv\")"
   ]
  },
  {
   "cell_type": "code",
   "execution_count": 89,
   "id": "c0a63e18",
   "metadata": {},
   "outputs": [],
   "source": [
    "raw_sample_df = pd.DataFrame(raw_sample_data)\n",
    "ad_feature_df = pd.DataFrame(ad_feature_data)\n",
    "user_profile_df = pd.DataFrame(user_profile_data)"
   ]
  },
  {
   "cell_type": "code",
   "execution_count": 90,
   "id": "70c78d43",
   "metadata": {},
   "outputs": [
    {
     "name": "stdout",
     "output_type": "stream",
     "text": [
      "     user  time_stamp  adgroup_id          pid  nonclk  clk\n",
      "0  581738  1494137644           1  430548_1007       1    0\n",
      "1  449818  1494638778           3  430548_1007       1    0\n",
      "2  914836  1494650879           4  430548_1007       1    0\n",
      "3  914836  1494651029           5  430548_1007       1    0\n",
      "4  399907  1494302958           8  430548_1007       1    0\n"
     ]
    },
    {
     "data": {
      "text/plain": [
       "(26557961, 6)"
      ]
     },
     "execution_count": 90,
     "metadata": {},
     "output_type": "execute_result"
    }
   ],
   "source": [
    "print(raw_sample_df.head())\n",
    "raw_sample_df.shape"
   ]
  },
  {
   "cell_type": "code",
   "execution_count": 91,
   "id": "85646cf9",
   "metadata": {},
   "outputs": [
    {
     "name": "stdout",
     "output_type": "stream",
     "text": [
      "<class 'pandas.core.frame.DataFrame'>\n",
      "RangeIndex: 26557961 entries, 0 to 26557960\n",
      "Data columns (total 6 columns):\n",
      " #   Column      Dtype \n",
      "---  ------      ----- \n",
      " 0   user        int64 \n",
      " 1   time_stamp  int64 \n",
      " 2   adgroup_id  int64 \n",
      " 3   pid         object\n",
      " 4   nonclk      int64 \n",
      " 5   clk         int64 \n",
      "dtypes: int64(5), object(1)\n",
      "memory usage: 1.2+ GB\n"
     ]
    }
   ],
   "source": [
    "raw_sample_df.info()"
   ]
  },
  {
   "cell_type": "code",
   "execution_count": 92,
   "id": "d080e34c",
   "metadata": {},
   "outputs": [
    {
     "name": "stdout",
     "output_type": "stream",
     "text": [
      "   adgroup_id  cate_id  campaign_id  customer     brand   price\n",
      "0       63133     6406        83237         1   95471.0  170.00\n",
      "1      313401     6406        83237         1   87331.0  199.00\n",
      "2      248909      392        83237         1   32233.0   38.00\n",
      "3      208458      392        83237         1  174374.0  139.00\n",
      "4      110847     7211       135256         2  145952.0   32.99\n"
     ]
    },
    {
     "data": {
      "text/plain": [
       "(846811, 6)"
      ]
     },
     "execution_count": 92,
     "metadata": {},
     "output_type": "execute_result"
    }
   ],
   "source": [
    "print(ad_feature_df.head())\n",
    "ad_feature_df.shape"
   ]
  },
  {
   "cell_type": "code",
   "execution_count": 93,
   "id": "23c091d2",
   "metadata": {},
   "outputs": [
    {
     "name": "stdout",
     "output_type": "stream",
     "text": [
      "<class 'pandas.core.frame.DataFrame'>\n",
      "RangeIndex: 846811 entries, 0 to 846810\n",
      "Data columns (total 6 columns):\n",
      " #   Column       Non-Null Count   Dtype  \n",
      "---  ------       --------------   -----  \n",
      " 0   adgroup_id   846811 non-null  int64  \n",
      " 1   cate_id      846811 non-null  int64  \n",
      " 2   campaign_id  846811 non-null  int64  \n",
      " 3   customer     846811 non-null  int64  \n",
      " 4   brand        600481 non-null  float64\n",
      " 5   price        846811 non-null  float64\n",
      "dtypes: float64(2), int64(4)\n",
      "memory usage: 38.8 MB\n"
     ]
    }
   ],
   "source": [
    "ad_feature_df.info()"
   ]
  },
  {
   "cell_type": "code",
   "execution_count": 94,
   "id": "d6ea7e91",
   "metadata": {
    "scrolled": true
   },
   "outputs": [
    {
     "name": "stdout",
     "output_type": "stream",
     "text": [
      "   userid  cms_segid  cms_group_id  final_gender_code  age_level  \\\n",
      "0     234          0             5                  2          5   \n",
      "1     523          5             2                  2          2   \n",
      "2     612          0             8                  1          2   \n",
      "3    1670          0             4                  2          4   \n",
      "4    2545          0            10                  1          4   \n",
      "\n",
      "   pvalue_level  shopping_level  occupation  new_user_class_level   \n",
      "0           NaN               3           0                    3.0  \n",
      "1           1.0               3           1                    2.0  \n",
      "2           2.0               3           0                    NaN  \n",
      "3           NaN               1           0                    NaN  \n",
      "4           NaN               3           0                    NaN  \n"
     ]
    },
    {
     "data": {
      "text/plain": [
       "(1061768, 9)"
      ]
     },
     "execution_count": 94,
     "metadata": {},
     "output_type": "execute_result"
    }
   ],
   "source": [
    "print(user_profile_df.head())\n",
    "user_profile_df.shape"
   ]
  },
  {
   "cell_type": "code",
   "execution_count": 95,
   "id": "276b0fd6",
   "metadata": {},
   "outputs": [
    {
     "name": "stdout",
     "output_type": "stream",
     "text": [
      "<class 'pandas.core.frame.DataFrame'>\n",
      "RangeIndex: 1061768 entries, 0 to 1061767\n",
      "Data columns (total 9 columns):\n",
      " #   Column                 Non-Null Count    Dtype  \n",
      "---  ------                 --------------    -----  \n",
      " 0   userid                 1061768 non-null  int64  \n",
      " 1   cms_segid              1061768 non-null  int64  \n",
      " 2   cms_group_id           1061768 non-null  int64  \n",
      " 3   final_gender_code      1061768 non-null  int64  \n",
      " 4   age_level              1061768 non-null  int64  \n",
      " 5   pvalue_level           485851 non-null   float64\n",
      " 6   shopping_level         1061768 non-null  int64  \n",
      " 7   occupation             1061768 non-null  int64  \n",
      " 8   new_user_class_level   716848 non-null   float64\n",
      "dtypes: float64(2), int64(7)\n",
      "memory usage: 72.9 MB\n"
     ]
    }
   ],
   "source": [
    "user_profile_df.info()"
   ]
  },
  {
   "cell_type": "code",
   "execution_count": 96,
   "id": "dbd53bce",
   "metadata": {},
   "outputs": [
    {
     "name": "stdout",
     "output_type": "stream",
     "text": [
      "Index(['user', 'time_stamp', 'adgroup_id', 'pid', 'nonclk', 'clk'], dtype='object')\n",
      "Index(['adgroup_id', 'cate_id', 'campaign_id', 'customer', 'brand', 'price'], dtype='object')\n",
      "Index(['userid', 'cms_segid', 'cms_group_id', 'final_gender_code', 'age_level',\n",
      "       'pvalue_level', 'shopping_level', 'occupation',\n",
      "       'new_user_class_level '],\n",
      "      dtype='object')\n"
     ]
    }
   ],
   "source": [
    "print(raw_sample_df.columns)\n",
    "print(ad_feature_df.columns)\n",
    "print(user_profile_df.columns)"
   ]
  },
  {
   "cell_type": "code",
   "execution_count": 97,
   "id": "edf85f7f",
   "metadata": {},
   "outputs": [],
   "source": [
    "#Renaming column to make merging easier in the later phases, since user id will serve as primary key\n",
    "raw_sample_df.rename(columns={'user':'user_id'}, inplace=True)\n",
    "\n",
    "#Column name has a trailing space, correcting the error\n",
    "user_profile_df.rename(columns={'userid':'user_id', 'new_user_class_level ':'new_user_class_level'}, inplace=True)"
   ]
  },
  {
   "cell_type": "code",
   "execution_count": 98,
   "id": "1b04d90d",
   "metadata": {},
   "outputs": [
    {
     "name": "stdout",
     "output_type": "stream",
     "text": [
      "user_id       0\n",
      "time_stamp    0\n",
      "adgroup_id    0\n",
      "pid           0\n",
      "nonclk        0\n",
      "clk           0\n",
      "dtype: int64\n"
     ]
    }
   ],
   "source": [
    "#Counting the number of nulls in the raw_sample_df\n",
    "print(raw_sample_df.isnull().sum())"
   ]
  },
  {
   "cell_type": "code",
   "execution_count": 99,
   "id": "bb09ceeb",
   "metadata": {},
   "outputs": [
    {
     "name": "stdout",
     "output_type": "stream",
     "text": [
      "adgroup_id          0\n",
      "cate_id             0\n",
      "campaign_id         0\n",
      "customer            0\n",
      "brand          246330\n",
      "price               0\n",
      "dtype: int64\n"
     ]
    }
   ],
   "source": [
    "#Checking and counting which columns under ad_feature_df has null values the number of nulls in the user_profile_df.\n",
    "#The feature 'brand' has all the missing data for the dataframe.\n",
    "print(ad_feature_df.isnull().sum())"
   ]
  },
  {
   "cell_type": "code",
   "execution_count": 100,
   "id": "e3920d8d",
   "metadata": {},
   "outputs": [
    {
     "name": "stdout",
     "output_type": "stream",
     "text": [
      "0.2908913559223959\n"
     ]
    }
   ],
   "source": [
    "#Calculating the perfectage of missing data in the 'brand' column\n",
    "print(ad_feature_df['brand'].isnull().sum()/len(ad_feature_df))"
   ]
  },
  {
   "cell_type": "code",
   "execution_count": 101,
   "id": "843d2537",
   "metadata": {},
   "outputs": [
    {
     "data": {
      "text/plain": [
       "0    353787.0\n",
       "Name: brand, dtype: float64"
      ]
     },
     "execution_count": 101,
     "metadata": {},
     "output_type": "execute_result"
    }
   ],
   "source": [
    "#Checking to see which brand occurs the most often\n",
    "ad_feature_df['brand'].mode()"
   ]
  },
  {
   "cell_type": "code",
   "execution_count": 102,
   "id": "d04ed7d5",
   "metadata": {},
   "outputs": [
    {
     "data": {
      "text/plain": [
       "353787.0    6553\n",
       "247789.0    4608\n",
       "234846.0    3009\n",
       "146115.0    2958\n",
       "220468.0    2781\n",
       "            ... \n",
       "422944.0       1\n",
       "392976.0       1\n",
       "363423.0       1\n",
       "387922.0       1\n",
       "122355.0       1\n",
       "Name: brand, Length: 99814, dtype: int64"
      ]
     },
     "execution_count": 102,
     "metadata": {},
     "output_type": "execute_result"
    }
   ],
   "source": [
    "#The brand id'353787' takes up a majority of the share\n",
    "ad_feature_df['brand'].value_counts()"
   ]
  },
  {
   "cell_type": "code",
   "execution_count": 103,
   "id": "0725ffa6",
   "metadata": {},
   "outputs": [],
   "source": [
    "#Decide to fill in the missing data with mode function, the logical is that brand '353787' will most likely have a variety\n",
    "#of items to sell and they would have a bigger presence on the Taobao platform\n",
    "ad_feature_df['brand'] = ad_feature_df['brand'].fillna(ad_feature_df['brand'].mode()[0])"
   ]
  },
  {
   "cell_type": "code",
   "execution_count": 104,
   "id": "3d5945a5",
   "metadata": {},
   "outputs": [
    {
     "data": {
      "text/plain": [
       "user_id                      0\n",
       "cms_segid                    0\n",
       "cms_group_id                 0\n",
       "final_gender_code            0\n",
       "age_level                    0\n",
       "pvalue_level            575917\n",
       "shopping_level               0\n",
       "occupation                   0\n",
       "new_user_class_level    344920\n",
       "dtype: int64"
      ]
     },
     "execution_count": 104,
     "metadata": {},
     "output_type": "execute_result"
    }
   ],
   "source": [
    "#Checks and counts which columns in ad_feature_df has null values, looks like two columns - 'pvalue_level' and \n",
    "#'new_user_class_level' - contains all the null values for the dataframe.\n",
    "user_profile_df.isnull().sum()"
   ]
  },
  {
   "cell_type": "code",
   "execution_count": 105,
   "id": "ed58e415",
   "metadata": {},
   "outputs": [
    {
     "name": "stdout",
     "output_type": "stream",
     "text": [
      "0.542413220213832\n",
      "0.32485439380354275\n"
     ]
    }
   ],
   "source": [
    "#Calculating the percentage of missing values in the 'pvalue_level' and 'new_user_class_level' columns to determine\n",
    "#if the column's missing data is worth filling in\n",
    "print(user_profile_df['pvalue_level'].isnull().sum()/len(user_profile_df['pvalue_level']))\n",
    "print(user_profile_df['new_user_class_level'].isnull().sum()/len(user_profile_df['new_user_class_level']))"
   ]
  },
  {
   "cell_type": "code",
   "execution_count": 106,
   "id": "67cf8599",
   "metadata": {},
   "outputs": [],
   "source": [
    "#The pvalue column has 54% of its value missing, better to delete since we should not fill in the missing data \n",
    "user_profile_df.drop(columns=['pvalue_level'], inplace=True)"
   ]
  },
  {
   "cell_type": "code",
   "execution_count": 107,
   "id": "7868afcd",
   "metadata": {
    "scrolled": true
   },
   "outputs": [
    {
     "data": {
      "text/plain": [
       "(array([ 80548.,      0.,      0., 324420.,      0.,      0., 173047.,\n",
       "             0.,      0., 138833.]),\n",
       " array([1. , 1.3, 1.6, 1.9, 2.2, 2.5, 2.8, 3.1, 3.4, 3.7, 4. ]),\n",
       " <BarContainer object of 10 artists>)"
      ]
     },
     "execution_count": 107,
     "metadata": {},
     "output_type": "execute_result"
    },
    {
     "data": {
      "image/png": "[encoded data removed]",
      "text/plain": [
       "<Figure size 640x480 with 1 Axes>"
      ]
     },
     "metadata": {},
     "output_type": "display_data"
    }
   ],
   "source": [
    "#Plotting the 'new_user_class_level' to determine how the categorical data is distributed\n",
    "plt.hist(user_profile_df['new_user_class_level'])"
   ]
  },
  {
   "cell_type": "markdown",
   "id": "47def07b",
   "metadata": {},
   "source": [
    "Seems most users are living in a level 2 city. There are four levels a chinese city can be designated. According \n",
    "to my research its based off of factors such as the city's GDP and population. Tier 1 cities are the wealthiest and the\n",
    "most populated, whereas Tier 4 cities are the relatively small and less affluent. Interestingly, you would expect most\n",
    "users from Tier1 cities given their population but it seems they actually have the lowest number of users. From the\n",
    "research, there are 5 Tier 1 cities, 30 Tier 2 cities, 138 Tier 3 cities, and 480 tier 4 cities. Perhaps reason why\n",
    "Tier 1 has the lowest number of users is because the total population of the other tiered cities surpassed theirs. It\n",
    "would make sense 30 Tier 2 cities combined might have a much higher population than 5 Tier 1 cities combined.\n",
    "\n",
    "Source: https://www.china-briefing.com/news/chinas-city-tier-classification-defined/"
   ]
  },
  {
   "cell_type": "code",
   "execution_count": 108,
   "id": "e8ffea93",
   "metadata": {
    "scrolled": true
   },
   "outputs": [],
   "source": [
    "#Decided to use the mode function for the 'new_user_class_level' since Tier 2 cities seems to have the most users\n",
    "user_profile_df['new_user_class_level'] = user_profile_df['new_user_class_level'].fillna(user_profile_df['new_user_class_level'].mode()[0])\n",
    "\n",
    "#from sklearn.preprocessing import MinMaxScaler\n",
    "\n",
    "#scaler = MinMaxScaler()\n",
    "#user_profile_scaled_df = pd.DataFrame(scaler.fit_transform(user_profile_df), columns=user_profile_df.columns)\n",
    "#user_profile_scaled_df.head()\n"
   ]
  },
  {
   "cell_type": "code",
   "execution_count": 109,
   "id": "59cc7526",
   "metadata": {},
   "outputs": [],
   "source": [
    "#imputer = KNNImputer(n_neighbors=3)\n",
    "#user_profile_scaled_df = pd.DataFrame(imputer.fit_transform(user_profile_scaled_df), columns=user_profile_scaled_df.columns)\n",
    "#print(user_profile_scaled_df)"
   ]
  },
  {
   "cell_type": "code",
   "execution_count": 110,
   "id": "4092d93b",
   "metadata": {},
   "outputs": [],
   "source": [
    "#df.isna().any()"
   ]
  },
  {
   "cell_type": "code",
   "execution_count": 111,
   "id": "48d5a682",
   "metadata": {},
   "outputs": [
    {
     "data": {
      "text/plain": [
       "user_id                 0\n",
       "cms_segid               0\n",
       "cms_group_id            0\n",
       "final_gender_code       0\n",
       "age_level               0\n",
       "shopping_level          0\n",
       "occupation              0\n",
       "new_user_class_level    0\n",
       "dtype: int64"
      ]
     },
     "execution_count": 111,
     "metadata": {},
     "output_type": "execute_result"
    }
   ],
   "source": [
    "user_profile_df.isnull().sum()"
   ]
  },
  {
   "cell_type": "code",
   "execution_count": 112,
   "id": "0c3778ad",
   "metadata": {},
   "outputs": [],
   "source": [
    "#Now that we've cleaned up the missing values we can merge the three dataframes together into a singular dataset\n",
    "taobao_df = pd.merge(pd.merge(ad_feature_df, raw_sample_df, on='adgroup_id'), user_profile_df, on='user_id')"
   ]
  },
  {
   "cell_type": "code",
   "execution_count": 113,
   "id": "33aa584e",
   "metadata": {},
   "outputs": [
    {
     "data": {
      "text/html": [
       "<div>\n",
       "<style scoped>\n",
       "    .dataframe tbody tr th:only-of-type {\n",
       "        vertical-align: middle;\n",
       "    }\n",
       "\n",
       "    .dataframe tbody tr th {\n",
       "        vertical-align: top;\n",
       "    }\n",
       "\n",
       "    .dataframe thead th {\n",
       "        text-align: right;\n",
       "    }\n",
       "</style>\n",
       "<table border=\"1\" class=\"dataframe\">\n",
       "  <thead>\n",
       "    <tr style=\"text-align: right;\">\n",
       "      <th></th>\n",
       "      <th>adgroup_id</th>\n",
       "      <th>cate_id</th>\n",
       "      <th>campaign_id</th>\n",
       "      <th>customer</th>\n",
       "      <th>brand</th>\n",
       "      <th>price</th>\n",
       "      <th>user_id</th>\n",
       "      <th>time_stamp</th>\n",
       "      <th>pid</th>\n",
       "      <th>nonclk</th>\n",
       "      <th>clk</th>\n",
       "      <th>cms_segid</th>\n",
       "      <th>cms_group_id</th>\n",
       "      <th>final_gender_code</th>\n",
       "      <th>age_level</th>\n",
       "      <th>shopping_level</th>\n",
       "      <th>occupation</th>\n",
       "      <th>new_user_class_level</th>\n",
       "    </tr>\n",
       "  </thead>\n",
       "  <tbody>\n",
       "    <tr>\n",
       "      <th>0</th>\n",
       "      <td>63133</td>\n",
       "      <td>6406</td>\n",
       "      <td>83237</td>\n",
       "      <td>1</td>\n",
       "      <td>95471.0</td>\n",
       "      <td>170.0</td>\n",
       "      <td>658198</td>\n",
       "      <td>1494675187</td>\n",
       "      <td>430539_1007</td>\n",
       "      <td>1</td>\n",
       "      <td>0</td>\n",
       "      <td>35</td>\n",
       "      <td>4</td>\n",
       "      <td>2</td>\n",
       "      <td>4</td>\n",
       "      <td>3</td>\n",
       "      <td>0</td>\n",
       "      <td>2.0</td>\n",
       "    </tr>\n",
       "    <tr>\n",
       "      <th>1</th>\n",
       "      <td>751393</td>\n",
       "      <td>6735</td>\n",
       "      <td>82613</td>\n",
       "      <td>764</td>\n",
       "      <td>245342.0</td>\n",
       "      <td>159.0</td>\n",
       "      <td>658198</td>\n",
       "      <td>1494281824</td>\n",
       "      <td>430539_1007</td>\n",
       "      <td>1</td>\n",
       "      <td>0</td>\n",
       "      <td>35</td>\n",
       "      <td>4</td>\n",
       "      <td>2</td>\n",
       "      <td>4</td>\n",
       "      <td>3</td>\n",
       "      <td>0</td>\n",
       "      <td>2.0</td>\n",
       "    </tr>\n",
       "    <tr>\n",
       "      <th>2</th>\n",
       "      <td>478600</td>\n",
       "      <td>6735</td>\n",
       "      <td>134386</td>\n",
       "      <td>3962</td>\n",
       "      <td>416449.0</td>\n",
       "      <td>228.0</td>\n",
       "      <td>658198</td>\n",
       "      <td>1494293290</td>\n",
       "      <td>430539_1007</td>\n",
       "      <td>1</td>\n",
       "      <td>0</td>\n",
       "      <td>35</td>\n",
       "      <td>4</td>\n",
       "      <td>2</td>\n",
       "      <td>4</td>\n",
       "      <td>3</td>\n",
       "      <td>0</td>\n",
       "      <td>2.0</td>\n",
       "    </tr>\n",
       "    <tr>\n",
       "      <th>3</th>\n",
       "      <td>624512</td>\n",
       "      <td>6300</td>\n",
       "      <td>246754</td>\n",
       "      <td>19314</td>\n",
       "      <td>353787.0</td>\n",
       "      <td>87.0</td>\n",
       "      <td>658198</td>\n",
       "      <td>1494320946</td>\n",
       "      <td>430539_1007</td>\n",
       "      <td>1</td>\n",
       "      <td>0</td>\n",
       "      <td>35</td>\n",
       "      <td>4</td>\n",
       "      <td>2</td>\n",
       "      <td>4</td>\n",
       "      <td>3</td>\n",
       "      <td>0</td>\n",
       "      <td>2.0</td>\n",
       "    </tr>\n",
       "    <tr>\n",
       "      <th>4</th>\n",
       "      <td>659291</td>\n",
       "      <td>1665</td>\n",
       "      <td>114429</td>\n",
       "      <td>19314</td>\n",
       "      <td>353787.0</td>\n",
       "      <td>135.0</td>\n",
       "      <td>658198</td>\n",
       "      <td>1494668636</td>\n",
       "      <td>430539_1007</td>\n",
       "      <td>1</td>\n",
       "      <td>0</td>\n",
       "      <td>35</td>\n",
       "      <td>4</td>\n",
       "      <td>2</td>\n",
       "      <td>4</td>\n",
       "      <td>3</td>\n",
       "      <td>0</td>\n",
       "      <td>2.0</td>\n",
       "    </tr>\n",
       "    <tr>\n",
       "      <th>5</th>\n",
       "      <td>634269</td>\n",
       "      <td>7636</td>\n",
       "      <td>405061</td>\n",
       "      <td>59901</td>\n",
       "      <td>365752.0</td>\n",
       "      <td>916.0</td>\n",
       "      <td>658198</td>\n",
       "      <td>1494386191</td>\n",
       "      <td>430539_1007</td>\n",
       "      <td>1</td>\n",
       "      <td>0</td>\n",
       "      <td>35</td>\n",
       "      <td>4</td>\n",
       "      <td>2</td>\n",
       "      <td>4</td>\n",
       "      <td>3</td>\n",
       "      <td>0</td>\n",
       "      <td>2.0</td>\n",
       "    </tr>\n",
       "    <tr>\n",
       "      <th>6</th>\n",
       "      <td>557358</td>\n",
       "      <td>7636</td>\n",
       "      <td>254164</td>\n",
       "      <td>136315</td>\n",
       "      <td>293023.0</td>\n",
       "      <td>996.0</td>\n",
       "      <td>658198</td>\n",
       "      <td>1494386191</td>\n",
       "      <td>430539_1007</td>\n",
       "      <td>1</td>\n",
       "      <td>0</td>\n",
       "      <td>35</td>\n",
       "      <td>4</td>\n",
       "      <td>2</td>\n",
       "      <td>4</td>\n",
       "      <td>3</td>\n",
       "      <td>0</td>\n",
       "      <td>2.0</td>\n",
       "    </tr>\n",
       "    <tr>\n",
       "      <th>7</th>\n",
       "      <td>401146</td>\n",
       "      <td>6406</td>\n",
       "      <td>342802</td>\n",
       "      <td>150479</td>\n",
       "      <td>9019.0</td>\n",
       "      <td>750.0</td>\n",
       "      <td>658198</td>\n",
       "      <td>1494675187</td>\n",
       "      <td>430539_1007</td>\n",
       "      <td>1</td>\n",
       "      <td>0</td>\n",
       "      <td>35</td>\n",
       "      <td>4</td>\n",
       "      <td>2</td>\n",
       "      <td>4</td>\n",
       "      <td>3</td>\n",
       "      <td>0</td>\n",
       "      <td>2.0</td>\n",
       "    </tr>\n",
       "    <tr>\n",
       "      <th>8</th>\n",
       "      <td>571854</td>\n",
       "      <td>4267</td>\n",
       "      <td>170607</td>\n",
       "      <td>163634</td>\n",
       "      <td>168008.0</td>\n",
       "      <td>68.0</td>\n",
       "      <td>658198</td>\n",
       "      <td>1494513225</td>\n",
       "      <td>430539_1007</td>\n",
       "      <td>1</td>\n",
       "      <td>0</td>\n",
       "      <td>35</td>\n",
       "      <td>4</td>\n",
       "      <td>2</td>\n",
       "      <td>4</td>\n",
       "      <td>3</td>\n",
       "      <td>0</td>\n",
       "      <td>2.0</td>\n",
       "    </tr>\n",
       "    <tr>\n",
       "      <th>9</th>\n",
       "      <td>364680</td>\n",
       "      <td>7636</td>\n",
       "      <td>326572</td>\n",
       "      <td>4785</td>\n",
       "      <td>293023.0</td>\n",
       "      <td>198.0</td>\n",
       "      <td>658198</td>\n",
       "      <td>1494281824</td>\n",
       "      <td>430539_1007</td>\n",
       "      <td>1</td>\n",
       "      <td>0</td>\n",
       "      <td>35</td>\n",
       "      <td>4</td>\n",
       "      <td>2</td>\n",
       "      <td>4</td>\n",
       "      <td>3</td>\n",
       "      <td>0</td>\n",
       "      <td>2.0</td>\n",
       "    </tr>\n",
       "  </tbody>\n",
       "</table>\n",
       "</div>"
      ],
      "text/plain": [
       "   adgroup_id  cate_id  campaign_id  customer     brand  price  user_id  \\\n",
       "0       63133     6406        83237         1   95471.0  170.0   658198   \n",
       "1      751393     6735        82613       764  245342.0  159.0   658198   \n",
       "2      478600     6735       134386      3962  416449.0  228.0   658198   \n",
       "3      624512     6300       246754     19314  353787.0   87.0   658198   \n",
       "4      659291     1665       114429     19314  353787.0  135.0   658198   \n",
       "5      634269     7636       405061     59901  365752.0  916.0   658198   \n",
       "6      557358     7636       254164    136315  293023.0  996.0   658198   \n",
       "7      401146     6406       342802    150479    9019.0  750.0   658198   \n",
       "8      571854     4267       170607    163634  168008.0   68.0   658198   \n",
       "9      364680     7636       326572      4785  293023.0  198.0   658198   \n",
       "\n",
       "   time_stamp          pid  nonclk  clk  cms_segid  cms_group_id  \\\n",
       "0  1494675187  430539_1007       1    0         35             4   \n",
       "1  1494281824  430539_1007       1    0         35             4   \n",
       "2  1494293290  430539_1007       1    0         35             4   \n",
       "3  1494320946  430539_1007       1    0         35             4   \n",
       "4  1494668636  430539_1007       1    0         35             4   \n",
       "5  1494386191  430539_1007       1    0         35             4   \n",
       "6  1494386191  430539_1007       1    0         35             4   \n",
       "7  1494675187  430539_1007       1    0         35             4   \n",
       "8  1494513225  430539_1007       1    0         35             4   \n",
       "9  1494281824  430539_1007       1    0         35             4   \n",
       "\n",
       "   final_gender_code  age_level  shopping_level  occupation  \\\n",
       "0                  2          4               3           0   \n",
       "1                  2          4               3           0   \n",
       "2                  2          4               3           0   \n",
       "3                  2          4               3           0   \n",
       "4                  2          4               3           0   \n",
       "5                  2          4               3           0   \n",
       "6                  2          4               3           0   \n",
       "7                  2          4               3           0   \n",
       "8                  2          4               3           0   \n",
       "9                  2          4               3           0   \n",
       "\n",
       "   new_user_class_level  \n",
       "0                   2.0  \n",
       "1                   2.0  \n",
       "2                   2.0  \n",
       "3                   2.0  \n",
       "4                   2.0  \n",
       "5                   2.0  \n",
       "6                   2.0  \n",
       "7                   2.0  \n",
       "8                   2.0  \n",
       "9                   2.0  "
      ]
     },
     "execution_count": 113,
     "metadata": {},
     "output_type": "execute_result"
    }
   ],
   "source": [
    "taobao_df.head(10)"
   ]
  },
  {
   "cell_type": "code",
   "execution_count": 114,
   "id": "9618612f",
   "metadata": {},
   "outputs": [
    {
     "data": {
      "text/plain": [
       "adgroup_id              0\n",
       "cate_id                 0\n",
       "campaign_id             0\n",
       "customer                0\n",
       "brand                   0\n",
       "price                   0\n",
       "user_id                 0\n",
       "time_stamp              0\n",
       "pid                     0\n",
       "nonclk                  0\n",
       "clk                     0\n",
       "cms_segid               0\n",
       "cms_group_id            0\n",
       "final_gender_code       0\n",
       "age_level               0\n",
       "shopping_level          0\n",
       "occupation              0\n",
       "new_user_class_level    0\n",
       "dtype: int64"
      ]
     },
     "execution_count": 114,
     "metadata": {},
     "output_type": "execute_result"
    }
   ],
   "source": [
    "#Double checking if we have any missing values that might have slipped through\n",
    "taobao_df.isnull().sum()"
   ]
  },
  {
   "cell_type": "code",
   "execution_count": 115,
   "id": "75de932a",
   "metadata": {},
   "outputs": [
    {
     "data": {
      "text/plain": [
       "(25029435, 18)"
      ]
     },
     "execution_count": 115,
     "metadata": {},
     "output_type": "execute_result"
    }
   ],
   "source": [
    "taobao_df.shape"
   ]
  },
  {
   "cell_type": "code",
   "execution_count": 116,
   "id": "da080ba4",
   "metadata": {},
   "outputs": [],
   "source": [
    "#Decided to rename some columns in the data frame to be more intuitive, although there are some columns such as 'cms_segid'\n",
    "#and 'cms_group_id' that we have no information on, will keep since there is no harm in having them. We can always tell\n",
    "#the stakeholders our findings first and ask them about it if needed. \n",
    "taobao_df.rename(columns={'customer':'advertiser_id', 'brand':'brand_id', 'final_gender_code':'gender', }, inplace=True)"
   ]
  },
  {
   "cell_type": "code",
   "execution_count": 117,
   "id": "2ea0edf3",
   "metadata": {},
   "outputs": [
    {
     "name": "stdout",
     "output_type": "stream",
     "text": [
      "<class 'pandas.core.frame.DataFrame'>\n",
      "Int64Index: 25029435 entries, 0 to 25029434\n",
      "Data columns (total 18 columns):\n",
      " #   Column                Dtype  \n",
      "---  ------                -----  \n",
      " 0   adgroup_id            int64  \n",
      " 1   cate_id               int64  \n",
      " 2   campaign_id           int64  \n",
      " 3   advertiser_id         int64  \n",
      " 4   brand_id              float64\n",
      " 5   price                 float64\n",
      " 6   user_id               int64  \n",
      " 7   time_stamp            int64  \n",
      " 8   pid                   object \n",
      " 9   nonclk                int64  \n",
      " 10  clk                   int64  \n",
      " 11  cms_segid             int64  \n",
      " 12  cms_group_id          int64  \n",
      " 13  gender                int64  \n",
      " 14  age_level             int64  \n",
      " 15  shopping_level        int64  \n",
      " 16  occupation            int64  \n",
      " 17  new_user_class_level  float64\n",
      "dtypes: float64(3), int64(14), object(1)\n",
      "memory usage: 3.5+ GB\n"
     ]
    }
   ],
   "source": [
    "taobao_df.info()"
   ]
  },
  {
   "cell_type": "code",
   "execution_count": 118,
   "id": "83a1deb3",
   "metadata": {},
   "outputs": [
    {
     "data": {
      "text/plain": [
       "adgroup_id               827009\n",
       "cate_id                    6725\n",
       "campaign_id              417656\n",
       "advertiser_id            252841\n",
       "brand_id                  98771\n",
       "price                     14702\n",
       "user_id                 1061768\n",
       "time_stamp               659373\n",
       "pid                           2\n",
       "nonclk                        2\n",
       "clk                           2\n",
       "cms_segid                    97\n",
       "cms_group_id                 13\n",
       "gender                        2\n",
       "age_level                     7\n",
       "shopping_level                3\n",
       "occupation                    2\n",
       "new_user_class_level          4\n",
       "dtype: int64"
      ]
     },
     "execution_count": 118,
     "metadata": {},
     "output_type": "execute_result"
    }
   ],
   "source": [
    "taobao_df.nunique()"
   ]
  },
  {
   "cell_type": "code",
   "execution_count": 119,
   "id": "e1591474",
   "metadata": {},
   "outputs": [
    {
     "data": {
      "text/plain": [
       "count    25029435.000000\n",
       "mean          749.679412\n",
       "std        130943.573072\n",
       "min             0.010000\n",
       "25%            87.000000\n",
       "50%           168.000000\n",
       "75%           328.000000\n",
       "max      99999999.000000\n",
       "Name: price, dtype: object"
      ]
     },
     "execution_count": 119,
     "metadata": {},
     "output_type": "execute_result"
    }
   ],
   "source": [
    "#Checking to see the prices of the items from the ads\n",
    "taobao_df['price'].describe().apply(lambda x: format(x, 'f'))"
   ]
  },
  {
   "cell_type": "markdown",
   "id": "26508f27",
   "metadata": {},
   "source": [
    "The prices on the items seems to have quite a range, the min is 0.01 while the max is 999,999,999. The data is most likely\n",
    "in RMB (the currency of China) as well so have given Taobao mainly caters to the mainland Chinese demographic. Seems the min and max might be outliers since items at the 25% percentile starts 87 RMB while the 75% percentile starts at $328, a farcry from the min and max respectively. Will keep this in mind for the next part of the capstone. "
   ]
  },
  {
   "cell_type": "code",
   "execution_count": 120,
   "id": "663f9946",
   "metadata": {},
   "outputs": [
    {
     "data": {
      "text/plain": [
       "1    23744922\n",
       "0     1284513\n",
       "Name: nonclk, dtype: int64"
      ]
     },
     "execution_count": 120,
     "metadata": {},
     "output_type": "execute_result"
    }
   ],
   "source": [
    "#Checking to see if 'nonclk' count equals to 'clk'\n",
    "taobao_df['nonclk'].value_counts()"
   ]
  },
  {
   "cell_type": "code",
   "execution_count": 121,
   "id": "6baced56",
   "metadata": {},
   "outputs": [
    {
     "data": {
      "text/plain": [
       "0    23744922\n",
       "1     1284513\n",
       "Name: clk, dtype: int64"
      ]
     },
     "execution_count": 121,
     "metadata": {},
     "output_type": "execute_result"
    }
   ],
   "source": [
    "#Indeed 'clk' equals to 'nonclk' but reversed\n",
    "taobao_df['clk'].value_counts()"
   ]
  },
  {
   "cell_type": "markdown",
   "id": "d188f1f3",
   "metadata": {},
   "source": [
    "Looks like both the columns 'nonclk' and 'clk' gives the same data - whether or not the user clicked on an ad. From the two value_counts() done above they give the same mumbers but reversed, which makes sense as one column checked if the ad was clicked and another checks if the ad was not clicked which is essentially the same thing when represented in binary. Keep both columns would be redundant so lets drop the feature 'noclk' since its more intutive to think about whether an ad is clicked or not rather than the otherway around. "
   ]
  },
  {
   "cell_type": "code",
   "execution_count": 122,
   "id": "415ccf6d",
   "metadata": {},
   "outputs": [],
   "source": [
    "#Dropping 'nonclk' column sinces the 'clk' column serves the same purpose\n",
    "taobao_df.drop(columns=['nonclk'], inplace=True)"
   ]
  },
  {
   "cell_type": "code",
   "execution_count": 123,
   "id": "065497cb",
   "metadata": {},
   "outputs": [
    {
     "data": {
      "text/html": [
       "<div>\n",
       "<style scoped>\n",
       "    .dataframe tbody tr th:only-of-type {\n",
       "        vertical-align: middle;\n",
       "    }\n",
       "\n",
       "    .dataframe tbody tr th {\n",
       "        vertical-align: top;\n",
       "    }\n",
       "\n",
       "    .dataframe thead th {\n",
       "        text-align: right;\n",
       "    }\n",
       "</style>\n",
       "<table border=\"1\" class=\"dataframe\">\n",
       "  <thead>\n",
       "    <tr style=\"text-align: right;\">\n",
       "      <th></th>\n",
       "      <th>adgroup_id</th>\n",
       "      <th>cate_id</th>\n",
       "      <th>campaign_id</th>\n",
       "      <th>advertiser_id</th>\n",
       "      <th>brand_id</th>\n",
       "      <th>price</th>\n",
       "      <th>user_id</th>\n",
       "      <th>time_stamp</th>\n",
       "      <th>pid</th>\n",
       "      <th>clk</th>\n",
       "      <th>cms_segid</th>\n",
       "      <th>cms_group_id</th>\n",
       "      <th>gender</th>\n",
       "      <th>age_level</th>\n",
       "      <th>shopping_level</th>\n",
       "      <th>occupation</th>\n",
       "      <th>new_user_class_level</th>\n",
       "    </tr>\n",
       "  </thead>\n",
       "  <tbody>\n",
       "    <tr>\n",
       "      <th>0</th>\n",
       "      <td>63133</td>\n",
       "      <td>6406</td>\n",
       "      <td>83237</td>\n",
       "      <td>1</td>\n",
       "      <td>95471.0</td>\n",
       "      <td>170.0</td>\n",
       "      <td>658198</td>\n",
       "      <td>1494675187</td>\n",
       "      <td>430539_1007</td>\n",
       "      <td>0</td>\n",
       "      <td>35</td>\n",
       "      <td>4</td>\n",
       "      <td>2</td>\n",
       "      <td>4</td>\n",
       "      <td>3</td>\n",
       "      <td>0</td>\n",
       "      <td>2.0</td>\n",
       "    </tr>\n",
       "    <tr>\n",
       "      <th>1</th>\n",
       "      <td>751393</td>\n",
       "      <td>6735</td>\n",
       "      <td>82613</td>\n",
       "      <td>764</td>\n",
       "      <td>245342.0</td>\n",
       "      <td>159.0</td>\n",
       "      <td>658198</td>\n",
       "      <td>1494281824</td>\n",
       "      <td>430539_1007</td>\n",
       "      <td>0</td>\n",
       "      <td>35</td>\n",
       "      <td>4</td>\n",
       "      <td>2</td>\n",
       "      <td>4</td>\n",
       "      <td>3</td>\n",
       "      <td>0</td>\n",
       "      <td>2.0</td>\n",
       "    </tr>\n",
       "    <tr>\n",
       "      <th>2</th>\n",
       "      <td>478600</td>\n",
       "      <td>6735</td>\n",
       "      <td>134386</td>\n",
       "      <td>3962</td>\n",
       "      <td>416449.0</td>\n",
       "      <td>228.0</td>\n",
       "      <td>658198</td>\n",
       "      <td>1494293290</td>\n",
       "      <td>430539_1007</td>\n",
       "      <td>0</td>\n",
       "      <td>35</td>\n",
       "      <td>4</td>\n",
       "      <td>2</td>\n",
       "      <td>4</td>\n",
       "      <td>3</td>\n",
       "      <td>0</td>\n",
       "      <td>2.0</td>\n",
       "    </tr>\n",
       "    <tr>\n",
       "      <th>3</th>\n",
       "      <td>624512</td>\n",
       "      <td>6300</td>\n",
       "      <td>246754</td>\n",
       "      <td>19314</td>\n",
       "      <td>353787.0</td>\n",
       "      <td>87.0</td>\n",
       "      <td>658198</td>\n",
       "      <td>1494320946</td>\n",
       "      <td>430539_1007</td>\n",
       "      <td>0</td>\n",
       "      <td>35</td>\n",
       "      <td>4</td>\n",
       "      <td>2</td>\n",
       "      <td>4</td>\n",
       "      <td>3</td>\n",
       "      <td>0</td>\n",
       "      <td>2.0</td>\n",
       "    </tr>\n",
       "    <tr>\n",
       "      <th>4</th>\n",
       "      <td>659291</td>\n",
       "      <td>1665</td>\n",
       "      <td>114429</td>\n",
       "      <td>19314</td>\n",
       "      <td>353787.0</td>\n",
       "      <td>135.0</td>\n",
       "      <td>658198</td>\n",
       "      <td>1494668636</td>\n",
       "      <td>430539_1007</td>\n",
       "      <td>0</td>\n",
       "      <td>35</td>\n",
       "      <td>4</td>\n",
       "      <td>2</td>\n",
       "      <td>4</td>\n",
       "      <td>3</td>\n",
       "      <td>0</td>\n",
       "      <td>2.0</td>\n",
       "    </tr>\n",
       "    <tr>\n",
       "      <th>5</th>\n",
       "      <td>634269</td>\n",
       "      <td>7636</td>\n",
       "      <td>405061</td>\n",
       "      <td>59901</td>\n",
       "      <td>365752.0</td>\n",
       "      <td>916.0</td>\n",
       "      <td>658198</td>\n",
       "      <td>1494386191</td>\n",
       "      <td>430539_1007</td>\n",
       "      <td>0</td>\n",
       "      <td>35</td>\n",
       "      <td>4</td>\n",
       "      <td>2</td>\n",
       "      <td>4</td>\n",
       "      <td>3</td>\n",
       "      <td>0</td>\n",
       "      <td>2.0</td>\n",
       "    </tr>\n",
       "    <tr>\n",
       "      <th>6</th>\n",
       "      <td>557358</td>\n",
       "      <td>7636</td>\n",
       "      <td>254164</td>\n",
       "      <td>136315</td>\n",
       "      <td>293023.0</td>\n",
       "      <td>996.0</td>\n",
       "      <td>658198</td>\n",
       "      <td>1494386191</td>\n",
       "      <td>430539_1007</td>\n",
       "      <td>0</td>\n",
       "      <td>35</td>\n",
       "      <td>4</td>\n",
       "      <td>2</td>\n",
       "      <td>4</td>\n",
       "      <td>3</td>\n",
       "      <td>0</td>\n",
       "      <td>2.0</td>\n",
       "    </tr>\n",
       "    <tr>\n",
       "      <th>7</th>\n",
       "      <td>401146</td>\n",
       "      <td>6406</td>\n",
       "      <td>342802</td>\n",
       "      <td>150479</td>\n",
       "      <td>9019.0</td>\n",
       "      <td>750.0</td>\n",
       "      <td>658198</td>\n",
       "      <td>1494675187</td>\n",
       "      <td>430539_1007</td>\n",
       "      <td>0</td>\n",
       "      <td>35</td>\n",
       "      <td>4</td>\n",
       "      <td>2</td>\n",
       "      <td>4</td>\n",
       "      <td>3</td>\n",
       "      <td>0</td>\n",
       "      <td>2.0</td>\n",
       "    </tr>\n",
       "    <tr>\n",
       "      <th>8</th>\n",
       "      <td>571854</td>\n",
       "      <td>4267</td>\n",
       "      <td>170607</td>\n",
       "      <td>163634</td>\n",
       "      <td>168008.0</td>\n",
       "      <td>68.0</td>\n",
       "      <td>658198</td>\n",
       "      <td>1494513225</td>\n",
       "      <td>430539_1007</td>\n",
       "      <td>0</td>\n",
       "      <td>35</td>\n",
       "      <td>4</td>\n",
       "      <td>2</td>\n",
       "      <td>4</td>\n",
       "      <td>3</td>\n",
       "      <td>0</td>\n",
       "      <td>2.0</td>\n",
       "    </tr>\n",
       "    <tr>\n",
       "      <th>9</th>\n",
       "      <td>364680</td>\n",
       "      <td>7636</td>\n",
       "      <td>326572</td>\n",
       "      <td>4785</td>\n",
       "      <td>293023.0</td>\n",
       "      <td>198.0</td>\n",
       "      <td>658198</td>\n",
       "      <td>1494281824</td>\n",
       "      <td>430539_1007</td>\n",
       "      <td>0</td>\n",
       "      <td>35</td>\n",
       "      <td>4</td>\n",
       "      <td>2</td>\n",
       "      <td>4</td>\n",
       "      <td>3</td>\n",
       "      <td>0</td>\n",
       "      <td>2.0</td>\n",
       "    </tr>\n",
       "  </tbody>\n",
       "</table>\n",
       "</div>"
      ],
      "text/plain": [
       "   adgroup_id  cate_id  campaign_id  advertiser_id  brand_id  price  user_id  \\\n",
       "0       63133     6406        83237              1   95471.0  170.0   658198   \n",
       "1      751393     6735        82613            764  245342.0  159.0   658198   \n",
       "2      478600     6735       134386           3962  416449.0  228.0   658198   \n",
       "3      624512     6300       246754          19314  353787.0   87.0   658198   \n",
       "4      659291     1665       114429          19314  353787.0  135.0   658198   \n",
       "5      634269     7636       405061          59901  365752.0  916.0   658198   \n",
       "6      557358     7636       254164         136315  293023.0  996.0   658198   \n",
       "7      401146     6406       342802         150479    9019.0  750.0   658198   \n",
       "8      571854     4267       170607         163634  168008.0   68.0   658198   \n",
       "9      364680     7636       326572           4785  293023.0  198.0   658198   \n",
       "\n",
       "   time_stamp          pid  clk  cms_segid  cms_group_id  gender  age_level  \\\n",
       "0  1494675187  430539_1007    0         35             4       2          4   \n",
       "1  1494281824  430539_1007    0         35             4       2          4   \n",
       "2  1494293290  430539_1007    0         35             4       2          4   \n",
       "3  1494320946  430539_1007    0         35             4       2          4   \n",
       "4  1494668636  430539_1007    0         35             4       2          4   \n",
       "5  1494386191  430539_1007    0         35             4       2          4   \n",
       "6  1494386191  430539_1007    0         35             4       2          4   \n",
       "7  1494675187  430539_1007    0         35             4       2          4   \n",
       "8  1494513225  430539_1007    0         35             4       2          4   \n",
       "9  1494281824  430539_1007    0         35             4       2          4   \n",
       "\n",
       "   shopping_level  occupation  new_user_class_level  \n",
       "0               3           0                   2.0  \n",
       "1               3           0                   2.0  \n",
       "2               3           0                   2.0  \n",
       "3               3           0                   2.0  \n",
       "4               3           0                   2.0  \n",
       "5               3           0                   2.0  \n",
       "6               3           0                   2.0  \n",
       "7               3           0                   2.0  \n",
       "8               3           0                   2.0  \n",
       "9               3           0                   2.0  "
      ]
     },
     "execution_count": 123,
     "metadata": {},
     "output_type": "execute_result"
    }
   ],
   "source": [
    "taobao_df.head(10)"
   ]
  },
  {
   "cell_type": "code",
   "execution_count": 124,
   "id": "88af77a4",
   "metadata": {},
   "outputs": [],
   "source": [
    "#The time_stamp column contains data stored in unix code so we need convert them from unix timestamp to a human-readable \n",
    "#data-time\n",
    "taobao_df['date_time'] = pd.to_datetime(taobao_df['time_stamp'], unit='s')"
   ]
  },
  {
   "cell_type": "code",
   "execution_count": 125,
   "id": "3b6e421d",
   "metadata": {},
   "outputs": [
    {
     "data": {
      "text/html": [
       "<div>\n",
       "<style scoped>\n",
       "    .dataframe tbody tr th:only-of-type {\n",
       "        vertical-align: middle;\n",
       "    }\n",
       "\n",
       "    .dataframe tbody tr th {\n",
       "        vertical-align: top;\n",
       "    }\n",
       "\n",
       "    .dataframe thead th {\n",
       "        text-align: right;\n",
       "    }\n",
       "</style>\n",
       "<table border=\"1\" class=\"dataframe\">\n",
       "  <thead>\n",
       "    <tr style=\"text-align: right;\">\n",
       "      <th></th>\n",
       "      <th>adgroup_id</th>\n",
       "      <th>cate_id</th>\n",
       "      <th>campaign_id</th>\n",
       "      <th>advertiser_id</th>\n",
       "      <th>brand_id</th>\n",
       "      <th>price</th>\n",
       "      <th>user_id</th>\n",
       "      <th>time_stamp</th>\n",
       "      <th>pid</th>\n",
       "      <th>clk</th>\n",
       "      <th>cms_segid</th>\n",
       "      <th>cms_group_id</th>\n",
       "      <th>gender</th>\n",
       "      <th>age_level</th>\n",
       "      <th>shopping_level</th>\n",
       "      <th>occupation</th>\n",
       "      <th>new_user_class_level</th>\n",
       "      <th>date_time</th>\n",
       "    </tr>\n",
       "  </thead>\n",
       "  <tbody>\n",
       "    <tr>\n",
       "      <th>0</th>\n",
       "      <td>63133</td>\n",
       "      <td>6406</td>\n",
       "      <td>83237</td>\n",
       "      <td>1</td>\n",
       "      <td>95471.0</td>\n",
       "      <td>170.0</td>\n",
       "      <td>658198</td>\n",
       "      <td>1494675187</td>\n",
       "      <td>430539_1007</td>\n",
       "      <td>0</td>\n",
       "      <td>35</td>\n",
       "      <td>4</td>\n",
       "      <td>2</td>\n",
       "      <td>4</td>\n",
       "      <td>3</td>\n",
       "      <td>0</td>\n",
       "      <td>2.0</td>\n",
       "      <td>2017-05-13 11:33:07</td>\n",
       "    </tr>\n",
       "    <tr>\n",
       "      <th>1</th>\n",
       "      <td>751393</td>\n",
       "      <td>6735</td>\n",
       "      <td>82613</td>\n",
       "      <td>764</td>\n",
       "      <td>245342.0</td>\n",
       "      <td>159.0</td>\n",
       "      <td>658198</td>\n",
       "      <td>1494281824</td>\n",
       "      <td>430539_1007</td>\n",
       "      <td>0</td>\n",
       "      <td>35</td>\n",
       "      <td>4</td>\n",
       "      <td>2</td>\n",
       "      <td>4</td>\n",
       "      <td>3</td>\n",
       "      <td>0</td>\n",
       "      <td>2.0</td>\n",
       "      <td>2017-05-08 22:17:04</td>\n",
       "    </tr>\n",
       "    <tr>\n",
       "      <th>2</th>\n",
       "      <td>478600</td>\n",
       "      <td>6735</td>\n",
       "      <td>134386</td>\n",
       "      <td>3962</td>\n",
       "      <td>416449.0</td>\n",
       "      <td>228.0</td>\n",
       "      <td>658198</td>\n",
       "      <td>1494293290</td>\n",
       "      <td>430539_1007</td>\n",
       "      <td>0</td>\n",
       "      <td>35</td>\n",
       "      <td>4</td>\n",
       "      <td>2</td>\n",
       "      <td>4</td>\n",
       "      <td>3</td>\n",
       "      <td>0</td>\n",
       "      <td>2.0</td>\n",
       "      <td>2017-05-09 01:28:10</td>\n",
       "    </tr>\n",
       "    <tr>\n",
       "      <th>3</th>\n",
       "      <td>624512</td>\n",
       "      <td>6300</td>\n",
       "      <td>246754</td>\n",
       "      <td>19314</td>\n",
       "      <td>353787.0</td>\n",
       "      <td>87.0</td>\n",
       "      <td>658198</td>\n",
       "      <td>1494320946</td>\n",
       "      <td>430539_1007</td>\n",
       "      <td>0</td>\n",
       "      <td>35</td>\n",
       "      <td>4</td>\n",
       "      <td>2</td>\n",
       "      <td>4</td>\n",
       "      <td>3</td>\n",
       "      <td>0</td>\n",
       "      <td>2.0</td>\n",
       "      <td>2017-05-09 09:09:06</td>\n",
       "    </tr>\n",
       "    <tr>\n",
       "      <th>4</th>\n",
       "      <td>659291</td>\n",
       "      <td>1665</td>\n",
       "      <td>114429</td>\n",
       "      <td>19314</td>\n",
       "      <td>353787.0</td>\n",
       "      <td>135.0</td>\n",
       "      <td>658198</td>\n",
       "      <td>1494668636</td>\n",
       "      <td>430539_1007</td>\n",
       "      <td>0</td>\n",
       "      <td>35</td>\n",
       "      <td>4</td>\n",
       "      <td>2</td>\n",
       "      <td>4</td>\n",
       "      <td>3</td>\n",
       "      <td>0</td>\n",
       "      <td>2.0</td>\n",
       "      <td>2017-05-13 09:43:56</td>\n",
       "    </tr>\n",
       "    <tr>\n",
       "      <th>5</th>\n",
       "      <td>634269</td>\n",
       "      <td>7636</td>\n",
       "      <td>405061</td>\n",
       "      <td>59901</td>\n",
       "      <td>365752.0</td>\n",
       "      <td>916.0</td>\n",
       "      <td>658198</td>\n",
       "      <td>1494386191</td>\n",
       "      <td>430539_1007</td>\n",
       "      <td>0</td>\n",
       "      <td>35</td>\n",
       "      <td>4</td>\n",
       "      <td>2</td>\n",
       "      <td>4</td>\n",
       "      <td>3</td>\n",
       "      <td>0</td>\n",
       "      <td>2.0</td>\n",
       "      <td>2017-05-10 03:16:31</td>\n",
       "    </tr>\n",
       "    <tr>\n",
       "      <th>6</th>\n",
       "      <td>557358</td>\n",
       "      <td>7636</td>\n",
       "      <td>254164</td>\n",
       "      <td>136315</td>\n",
       "      <td>293023.0</td>\n",
       "      <td>996.0</td>\n",
       "      <td>658198</td>\n",
       "      <td>1494386191</td>\n",
       "      <td>430539_1007</td>\n",
       "      <td>0</td>\n",
       "      <td>35</td>\n",
       "      <td>4</td>\n",
       "      <td>2</td>\n",
       "      <td>4</td>\n",
       "      <td>3</td>\n",
       "      <td>0</td>\n",
       "      <td>2.0</td>\n",
       "      <td>2017-05-10 03:16:31</td>\n",
       "    </tr>\n",
       "    <tr>\n",
       "      <th>7</th>\n",
       "      <td>401146</td>\n",
       "      <td>6406</td>\n",
       "      <td>342802</td>\n",
       "      <td>150479</td>\n",
       "      <td>9019.0</td>\n",
       "      <td>750.0</td>\n",
       "      <td>658198</td>\n",
       "      <td>1494675187</td>\n",
       "      <td>430539_1007</td>\n",
       "      <td>0</td>\n",
       "      <td>35</td>\n",
       "      <td>4</td>\n",
       "      <td>2</td>\n",
       "      <td>4</td>\n",
       "      <td>3</td>\n",
       "      <td>0</td>\n",
       "      <td>2.0</td>\n",
       "      <td>2017-05-13 11:33:07</td>\n",
       "    </tr>\n",
       "    <tr>\n",
       "      <th>8</th>\n",
       "      <td>571854</td>\n",
       "      <td>4267</td>\n",
       "      <td>170607</td>\n",
       "      <td>163634</td>\n",
       "      <td>168008.0</td>\n",
       "      <td>68.0</td>\n",
       "      <td>658198</td>\n",
       "      <td>1494513225</td>\n",
       "      <td>430539_1007</td>\n",
       "      <td>0</td>\n",
       "      <td>35</td>\n",
       "      <td>4</td>\n",
       "      <td>2</td>\n",
       "      <td>4</td>\n",
       "      <td>3</td>\n",
       "      <td>0</td>\n",
       "      <td>2.0</td>\n",
       "      <td>2017-05-11 14:33:45</td>\n",
       "    </tr>\n",
       "    <tr>\n",
       "      <th>9</th>\n",
       "      <td>364680</td>\n",
       "      <td>7636</td>\n",
       "      <td>326572</td>\n",
       "      <td>4785</td>\n",
       "      <td>293023.0</td>\n",
       "      <td>198.0</td>\n",
       "      <td>658198</td>\n",
       "      <td>1494281824</td>\n",
       "      <td>430539_1007</td>\n",
       "      <td>0</td>\n",
       "      <td>35</td>\n",
       "      <td>4</td>\n",
       "      <td>2</td>\n",
       "      <td>4</td>\n",
       "      <td>3</td>\n",
       "      <td>0</td>\n",
       "      <td>2.0</td>\n",
       "      <td>2017-05-08 22:17:04</td>\n",
       "    </tr>\n",
       "  </tbody>\n",
       "</table>\n",
       "</div>"
      ],
      "text/plain": [
       "   adgroup_id  cate_id  campaign_id  advertiser_id  brand_id  price  user_id  \\\n",
       "0       63133     6406        83237              1   95471.0  170.0   658198   \n",
       "1      751393     6735        82613            764  245342.0  159.0   658198   \n",
       "2      478600     6735       134386           3962  416449.0  228.0   658198   \n",
       "3      624512     6300       246754          19314  353787.0   87.0   658198   \n",
       "4      659291     1665       114429          19314  353787.0  135.0   658198   \n",
       "5      634269     7636       405061          59901  365752.0  916.0   658198   \n",
       "6      557358     7636       254164         136315  293023.0  996.0   658198   \n",
       "7      401146     6406       342802         150479    9019.0  750.0   658198   \n",
       "8      571854     4267       170607         163634  168008.0   68.0   658198   \n",
       "9      364680     7636       326572           4785  293023.0  198.0   658198   \n",
       "\n",
       "   time_stamp          pid  clk  cms_segid  cms_group_id  gender  age_level  \\\n",
       "0  1494675187  430539_1007    0         35             4       2          4   \n",
       "1  1494281824  430539_1007    0         35             4       2          4   \n",
       "2  1494293290  430539_1007    0         35             4       2          4   \n",
       "3  1494320946  430539_1007    0         35             4       2          4   \n",
       "4  1494668636  430539_1007    0         35             4       2          4   \n",
       "5  1494386191  430539_1007    0         35             4       2          4   \n",
       "6  1494386191  430539_1007    0         35             4       2          4   \n",
       "7  1494675187  430539_1007    0         35             4       2          4   \n",
       "8  1494513225  430539_1007    0         35             4       2          4   \n",
       "9  1494281824  430539_1007    0         35             4       2          4   \n",
       "\n",
       "   shopping_level  occupation  new_user_class_level           date_time  \n",
       "0               3           0                   2.0 2017-05-13 11:33:07  \n",
       "1               3           0                   2.0 2017-05-08 22:17:04  \n",
       "2               3           0                   2.0 2017-05-09 01:28:10  \n",
       "3               3           0                   2.0 2017-05-09 09:09:06  \n",
       "4               3           0                   2.0 2017-05-13 09:43:56  \n",
       "5               3           0                   2.0 2017-05-10 03:16:31  \n",
       "6               3           0                   2.0 2017-05-10 03:16:31  \n",
       "7               3           0                   2.0 2017-05-13 11:33:07  \n",
       "8               3           0                   2.0 2017-05-11 14:33:45  \n",
       "9               3           0                   2.0 2017-05-08 22:17:04  "
      ]
     },
     "execution_count": 125,
     "metadata": {},
     "output_type": "execute_result"
    }
   ],
   "source": [
    "taobao_df.head(10)"
   ]
  },
  {
   "cell_type": "code",
   "execution_count": 126,
   "id": "457ce85c",
   "metadata": {},
   "outputs": [
    {
     "name": "stdout",
     "output_type": "stream",
     "text": [
      "Max  2017-05-13 15:59:46\n",
      "Min  2017-05-05 16:00:00\n"
     ]
    }
   ],
   "source": [
    "#To check if the converted dates falls within expectation \n",
    "print('Max ', taobao_df['date_time'].max())\n",
    "print('Min ', taobao_df['date_time'].min())"
   ]
  },
  {
   "cell_type": "markdown",
   "id": "6d43d5b6",
   "metadata": {},
   "source": [
    "The dates seems to be in the correct range of time, the raw_sample data was collected over an 8 day period according to the dataset's author and the min and max of the dates has a difference of 8 days"
   ]
  },
  {
   "cell_type": "code",
   "execution_count": null,
   "id": "8a240c41",
   "metadata": {},
   "outputs": [],
   "source": []
  }
 ],
 "metadata": {
  "kernelspec": {
   "display_name": "Python 3 (ipykernel)",
   "language": "python",
   "name": "python3"
  },
  "language_info": {
   "codemirror_mode": {
    "name": "ipython",
    "version": 3
   },
   "file_extension": ".py",
   "mimetype": "text/x-python",
   "name": "python",
   "nbconvert_exporter": "python",
   "pygments_lexer": "ipython3",
   "version": "3.9.13"
  }
 },
 "nbformat": 4,
 "nbformat_minor": 5
}

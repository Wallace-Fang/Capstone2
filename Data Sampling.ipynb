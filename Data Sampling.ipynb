{
 "cells": [
  {
   "cell_type": "code",
   "execution_count": 78,
   "id": "2d73be0f",
   "metadata": {},
   "outputs": [],
   "source": [
    "import pandas as pd\n",
    "import numpy as np\n",
    "from sklearn.preprocessing import StandardScaler\n",
    "import re\n",
    "import datetime\n",
    "import seaborn as sns\n",
    "import matplotlib.pyplot as plt\n",
    "import datetime"
   ]
  },
  {
   "cell_type": "code",
   "execution_count": 79,
   "id": "5cc8fe18",
   "metadata": {},
   "outputs": [],
   "source": [
    "taobao_df = pd.read_csv('taobao.csv')"
   ]
  },
  {
   "cell_type": "code",
   "execution_count": 80,
   "id": "92c94eb5",
   "metadata": {},
   "outputs": [
    {
     "data": {
      "text/html": [
       "<div>\n",
       "<style scoped>\n",
       "    .dataframe tbody tr th:only-of-type {\n",
       "        vertical-align: middle;\n",
       "    }\n",
       "\n",
       "    .dataframe tbody tr th {\n",
       "        vertical-align: top;\n",
       "    }\n",
       "\n",
       "    .dataframe thead th {\n",
       "        text-align: right;\n",
       "    }\n",
       "</style>\n",
       "<table border=\"1\" class=\"dataframe\">\n",
       "  <thead>\n",
       "    <tr style=\"text-align: right;\">\n",
       "      <th></th>\n",
       "      <th>Unnamed: 0</th>\n",
       "      <th>adgroup_id</th>\n",
       "      <th>cate_id</th>\n",
       "      <th>campaign_id</th>\n",
       "      <th>advertiser_id</th>\n",
       "      <th>brand_id</th>\n",
       "      <th>price</th>\n",
       "      <th>user_id</th>\n",
       "      <th>time_stamp</th>\n",
       "      <th>pid</th>\n",
       "      <th>clk</th>\n",
       "      <th>cms_segid</th>\n",
       "      <th>cms_group_id</th>\n",
       "      <th>gender</th>\n",
       "      <th>age_level</th>\n",
       "      <th>shopping_level</th>\n",
       "      <th>occupation</th>\n",
       "      <th>new_user_class_level</th>\n",
       "      <th>date_time</th>\n",
       "    </tr>\n",
       "  </thead>\n",
       "  <tbody>\n",
       "    <tr>\n",
       "      <th>0</th>\n",
       "      <td>0</td>\n",
       "      <td>63133</td>\n",
       "      <td>6406</td>\n",
       "      <td>83237</td>\n",
       "      <td>1</td>\n",
       "      <td>95471.0</td>\n",
       "      <td>170.0</td>\n",
       "      <td>658198</td>\n",
       "      <td>1494675187</td>\n",
       "      <td>430539_1007</td>\n",
       "      <td>0</td>\n",
       "      <td>35</td>\n",
       "      <td>4</td>\n",
       "      <td>2</td>\n",
       "      <td>4</td>\n",
       "      <td>3</td>\n",
       "      <td>0</td>\n",
       "      <td>2.0</td>\n",
       "      <td>2017-05-13 11:33:07</td>\n",
       "    </tr>\n",
       "    <tr>\n",
       "      <th>1</th>\n",
       "      <td>1</td>\n",
       "      <td>751393</td>\n",
       "      <td>6735</td>\n",
       "      <td>82613</td>\n",
       "      <td>764</td>\n",
       "      <td>245342.0</td>\n",
       "      <td>159.0</td>\n",
       "      <td>658198</td>\n",
       "      <td>1494281824</td>\n",
       "      <td>430539_1007</td>\n",
       "      <td>0</td>\n",
       "      <td>35</td>\n",
       "      <td>4</td>\n",
       "      <td>2</td>\n",
       "      <td>4</td>\n",
       "      <td>3</td>\n",
       "      <td>0</td>\n",
       "      <td>2.0</td>\n",
       "      <td>2017-05-08 22:17:04</td>\n",
       "    </tr>\n",
       "    <tr>\n",
       "      <th>2</th>\n",
       "      <td>2</td>\n",
       "      <td>478600</td>\n",
       "      <td>6735</td>\n",
       "      <td>134386</td>\n",
       "      <td>3962</td>\n",
       "      <td>416449.0</td>\n",
       "      <td>228.0</td>\n",
       "      <td>658198</td>\n",
       "      <td>1494293290</td>\n",
       "      <td>430539_1007</td>\n",
       "      <td>0</td>\n",
       "      <td>35</td>\n",
       "      <td>4</td>\n",
       "      <td>2</td>\n",
       "      <td>4</td>\n",
       "      <td>3</td>\n",
       "      <td>0</td>\n",
       "      <td>2.0</td>\n",
       "      <td>2017-05-09 01:28:10</td>\n",
       "    </tr>\n",
       "    <tr>\n",
       "      <th>3</th>\n",
       "      <td>3</td>\n",
       "      <td>624512</td>\n",
       "      <td>6300</td>\n",
       "      <td>246754</td>\n",
       "      <td>19314</td>\n",
       "      <td>353787.0</td>\n",
       "      <td>87.0</td>\n",
       "      <td>658198</td>\n",
       "      <td>1494320946</td>\n",
       "      <td>430539_1007</td>\n",
       "      <td>0</td>\n",
       "      <td>35</td>\n",
       "      <td>4</td>\n",
       "      <td>2</td>\n",
       "      <td>4</td>\n",
       "      <td>3</td>\n",
       "      <td>0</td>\n",
       "      <td>2.0</td>\n",
       "      <td>2017-05-09 09:09:06</td>\n",
       "    </tr>\n",
       "    <tr>\n",
       "      <th>4</th>\n",
       "      <td>4</td>\n",
       "      <td>659291</td>\n",
       "      <td>1665</td>\n",
       "      <td>114429</td>\n",
       "      <td>19314</td>\n",
       "      <td>353787.0</td>\n",
       "      <td>135.0</td>\n",
       "      <td>658198</td>\n",
       "      <td>1494668636</td>\n",
       "      <td>430539_1007</td>\n",
       "      <td>0</td>\n",
       "      <td>35</td>\n",
       "      <td>4</td>\n",
       "      <td>2</td>\n",
       "      <td>4</td>\n",
       "      <td>3</td>\n",
       "      <td>0</td>\n",
       "      <td>2.0</td>\n",
       "      <td>2017-05-13 09:43:56</td>\n",
       "    </tr>\n",
       "  </tbody>\n",
       "</table>\n",
       "</div>"
      ],
      "text/plain": [
       "   Unnamed: 0  adgroup_id  cate_id  campaign_id  advertiser_id  brand_id  \\\n",
       "0           0       63133     6406        83237              1   95471.0   \n",
       "1           1      751393     6735        82613            764  245342.0   \n",
       "2           2      478600     6735       134386           3962  416449.0   \n",
       "3           3      624512     6300       246754          19314  353787.0   \n",
       "4           4      659291     1665       114429          19314  353787.0   \n",
       "\n",
       "   price  user_id  time_stamp          pid  clk  cms_segid  cms_group_id  \\\n",
       "0  170.0   658198  1494675187  430539_1007    0         35             4   \n",
       "1  159.0   658198  1494281824  430539_1007    0         35             4   \n",
       "2  228.0   658198  1494293290  430539_1007    0         35             4   \n",
       "3   87.0   658198  1494320946  430539_1007    0         35             4   \n",
       "4  135.0   658198  1494668636  430539_1007    0         35             4   \n",
       "\n",
       "   gender  age_level  shopping_level  occupation  new_user_class_level  \\\n",
       "0       2          4               3           0                   2.0   \n",
       "1       2          4               3           0                   2.0   \n",
       "2       2          4               3           0                   2.0   \n",
       "3       2          4               3           0                   2.0   \n",
       "4       2          4               3           0                   2.0   \n",
       "\n",
       "             date_time  \n",
       "0  2017-05-13 11:33:07  \n",
       "1  2017-05-08 22:17:04  \n",
       "2  2017-05-09 01:28:10  \n",
       "3  2017-05-09 09:09:06  \n",
       "4  2017-05-13 09:43:56  "
      ]
     },
     "execution_count": 80,
     "metadata": {},
     "output_type": "execute_result"
    }
   ],
   "source": [
    "taobao_df.head()"
   ]
  },
  {
   "cell_type": "code",
   "execution_count": 81,
   "id": "c07056f9",
   "metadata": {},
   "outputs": [
    {
     "data": {
      "text/plain": [
       "(25029435, 19)"
      ]
     },
     "execution_count": 81,
     "metadata": {},
     "output_type": "execute_result"
    }
   ],
   "source": [
    "taobao_df.shape"
   ]
  },
  {
   "cell_type": "code",
   "execution_count": 82,
   "id": "7277b99e",
   "metadata": {},
   "outputs": [],
   "source": [
    "taobao_df['date'] = pd.to_datetime(taobao_df['date_time']).dt.strftime('%m-%d-%Y')"
   ]
  },
  {
   "cell_type": "code",
   "execution_count": 83,
   "id": "1a804ef7",
   "metadata": {},
   "outputs": [
    {
     "data": {
      "text/plain": [
       "0    05-13-2017\n",
       "1    05-08-2017\n",
       "2    05-09-2017\n",
       "3    05-09-2017\n",
       "4    05-13-2017\n",
       "Name: date, dtype: object"
      ]
     },
     "execution_count": 83,
     "metadata": {},
     "output_type": "execute_result"
    }
   ],
   "source": [
    "taobao_df['date'].head()"
   ]
  },
  {
   "cell_type": "code",
   "execution_count": 84,
   "id": "982e9a40",
   "metadata": {},
   "outputs": [],
   "source": [
    "taobao_sampled = taobao_df.groupby('date', group_keys=False).apply(lambda x: x.sample(frac=0.1))"
   ]
  },
  {
   "cell_type": "code",
   "execution_count": 85,
   "id": "5489d522",
   "metadata": {},
   "outputs": [
    {
     "data": {
      "text/plain": [
       "(2502944, 20)"
      ]
     },
     "execution_count": 85,
     "metadata": {},
     "output_type": "execute_result"
    }
   ],
   "source": [
    "taobao_sampled.shape"
   ]
  },
  {
   "cell_type": "code",
   "execution_count": 86,
   "id": "c347c219",
   "metadata": {},
   "outputs": [
    {
     "data": {
      "text/plain": [
       "date\n",
       "05-11-2017    12.722298\n",
       "05-08-2017    12.685102\n",
       "05-07-2017    12.681706\n",
       "05-10-2017    12.643911\n",
       "05-06-2017    12.357048\n",
       "05-12-2017    12.300155\n",
       "05-09-2017    12.282776\n",
       "05-13-2017    10.659487\n",
       "05-05-2017     1.667516\n",
       "Name: count, dtype: float64"
      ]
     },
     "execution_count": 86,
     "metadata": {},
     "output_type": "execute_result"
    }
   ],
   "source": [
    "(taobao_sampled['date'].value_counts()) / len(taobao_sampled) * 100"
   ]
  },
  {
   "cell_type": "code",
   "execution_count": 87,
   "id": "ba3685ff",
   "metadata": {},
   "outputs": [
    {
     "data": {
      "image/png": "[encoded data removed]",
      "text/plain": [
       "<Figure size 640x480 with 1 Axes>"
      ]
     },
     "metadata": {},
     "output_type": "display_data"
    }
   ],
   "source": [
    "plt.hist(taobao_sampled['date'])\n",
    "plt.xticks(rotation=45)\n",
    "plt.show()"
   ]
  },
  {
   "cell_type": "code",
   "execution_count": 88,
   "id": "47ab9194",
   "metadata": {
    "scrolled": true
   },
   "outputs": [
    {
     "data": {
      "text/plain": [
       "clk\n",
       "0    94.858535\n",
       "1     5.141465\n",
       "Name: count, dtype: float64"
      ]
     },
     "execution_count": 88,
     "metadata": {},
     "output_type": "execute_result"
    }
   ],
   "source": [
    "(taobao_sampled['clk'].value_counts()) / len(taobao_sampled) * 100"
   ]
  },
  {
   "cell_type": "markdown",
   "id": "2386778d",
   "metadata": {},
   "source": [
    "The graph seems to have an visual error with the plot around 05-07-2017 because the distribution for all the dates are shown to be fine when calculated beforehand. The distribution of the clicks and non-clicks also seems to be within the expected range. So stratified sampling 1.0% the dataset seems to have worked perfectly, from 25 million data entries to a just 2.5 million entries.  "
   ]
  },
  {
   "cell_type": "code",
   "execution_count": 90,
   "id": "bc66db7c",
   "metadata": {},
   "outputs": [
    {
     "ename": "ValueError",
     "evalue": "This sheet is too large! Your sheet size is: 2502944, 20 Max sheet size is: 1048576, 16384",
     "output_type": "error",
     "traceback": [
      "\u001b[1;31m---------------------------------------------------------------------------\u001b[0m",
      "\u001b[1;31mValueError\u001b[0m                                Traceback (most recent call last)",
      "\u001b[1;32m~\\AppData\\Local\\Temp\\ipykernel_17428\\1551137368.py\u001b[0m in \u001b[0;36m<module>\u001b[1;34m\u001b[0m\n\u001b[1;32m----> 1\u001b[1;33m \u001b[0mtaobao_sampled\u001b[0m\u001b[1;33m.\u001b[0m\u001b[0mto_excel\u001b[0m\u001b[1;33m(\u001b[0m\u001b[1;34m\"taobao_sampled.csv\"\u001b[0m\u001b[1;33m)\u001b[0m\u001b[1;33m\u001b[0m\u001b[1;33m\u001b[0m\u001b[0m\n\u001b[0m",
      "\u001b[1;32m~\\anaconda3\\lib\\site-packages\\pandas\\core\\generic.py\u001b[0m in \u001b[0;36mto_excel\u001b[1;34m(self, excel_writer, sheet_name, na_rep, float_format, columns, header, index, index_label, startrow, startcol, engine, merge_cells, inf_rep, freeze_panes, storage_options, engine_kwargs)\u001b[0m\n\u001b[0;32m   2343\u001b[0m             \u001b[0minf_rep\u001b[0m\u001b[1;33m=\u001b[0m\u001b[0minf_rep\u001b[0m\u001b[1;33m,\u001b[0m\u001b[1;33m\u001b[0m\u001b[1;33m\u001b[0m\u001b[0m\n\u001b[0;32m   2344\u001b[0m         )\n\u001b[1;32m-> 2345\u001b[1;33m         formatter.write(\n\u001b[0m\u001b[0;32m   2346\u001b[0m             \u001b[0mexcel_writer\u001b[0m\u001b[1;33m,\u001b[0m\u001b[1;33m\u001b[0m\u001b[1;33m\u001b[0m\u001b[0m\n\u001b[0;32m   2347\u001b[0m             \u001b[0msheet_name\u001b[0m\u001b[1;33m=\u001b[0m\u001b[0msheet_name\u001b[0m\u001b[1;33m,\u001b[0m\u001b[1;33m\u001b[0m\u001b[1;33m\u001b[0m\u001b[0m\n",
      "\u001b[1;32m~\\anaconda3\\lib\\site-packages\\pandas\\io\\formats\\excel.py\u001b[0m in \u001b[0;36mwrite\u001b[1;34m(self, writer, sheet_name, startrow, startcol, freeze_panes, engine, storage_options, engine_kwargs)\u001b[0m\n\u001b[0;32m    930\u001b[0m         \u001b[0mnum_rows\u001b[0m\u001b[1;33m,\u001b[0m \u001b[0mnum_cols\u001b[0m \u001b[1;33m=\u001b[0m \u001b[0mself\u001b[0m\u001b[1;33m.\u001b[0m\u001b[0mdf\u001b[0m\u001b[1;33m.\u001b[0m\u001b[0mshape\u001b[0m\u001b[1;33m\u001b[0m\u001b[1;33m\u001b[0m\u001b[0m\n\u001b[0;32m    931\u001b[0m         \u001b[1;32mif\u001b[0m \u001b[0mnum_rows\u001b[0m \u001b[1;33m>\u001b[0m \u001b[0mself\u001b[0m\u001b[1;33m.\u001b[0m\u001b[0mmax_rows\u001b[0m \u001b[1;32mor\u001b[0m \u001b[0mnum_cols\u001b[0m \u001b[1;33m>\u001b[0m \u001b[0mself\u001b[0m\u001b[1;33m.\u001b[0m\u001b[0mmax_cols\u001b[0m\u001b[1;33m:\u001b[0m\u001b[1;33m\u001b[0m\u001b[1;33m\u001b[0m\u001b[0m\n\u001b[1;32m--> 932\u001b[1;33m             raise ValueError(\n\u001b[0m\u001b[0;32m    933\u001b[0m                 \u001b[1;34mf\"This sheet is too large! Your sheet size is: {num_rows}, {num_cols} \"\u001b[0m\u001b[1;33m\u001b[0m\u001b[1;33m\u001b[0m\u001b[0m\n\u001b[0;32m    934\u001b[0m                 \u001b[1;34mf\"Max sheet size is: {self.max_rows}, {self.max_cols}\"\u001b[0m\u001b[1;33m\u001b[0m\u001b[1;33m\u001b[0m\u001b[0m\n",
      "\u001b[1;31mValueError\u001b[0m: This sheet is too large! Your sheet size is: 2502944, 20 Max sheet size is: 1048576, 16384"
     ]
    }
   ],
   "source": [
    "taobao_sampled.to_excel(\"taobao_sampled.csv\")"
   ]
  },
  {
   "cell_type": "code",
   "execution_count": null,
   "id": "543f3daa",
   "metadata": {},
   "outputs": [],
   "source": [
    "#sns.boxplot(taobao_sampled['price'])"
   ]
  },
  {
   "cell_type": "code",
   "execution_count": null,
   "id": "f1026262",
   "metadata": {},
   "outputs": [],
   "source": [
    "#ercentile25 = taobao_sampled['price'].quantile(0.05)\n",
    "#ercentile75 = taobao_sampled['price'].quantile(0.95)\n",
    "#qr = percentile75 - percentile25\n",
    "\n",
    "# upper_limit = percentile25 + 1.5 * iqr\n",
    "# lower_limit = percentile75 - 1.5 * iqr\n",
    "\n",
    "# print(f\"upper limit: {upper_limit}\")\n",
    "# print(f\"upper limit: {lower_limit}\")"
   ]
  },
  {
   "cell_type": "code",
   "execution_count": null,
   "id": "62c0cfc3",
   "metadata": {},
   "outputs": [],
   "source": [
    "#taobao_sampled = taobao_sampled[(taobao_sampled['price'] >= lower_limit) & (taobao_sampled['price'] <= upper_limit)]"
   ]
  },
  {
   "cell_type": "code",
   "execution_count": null,
   "id": "7b1a8fab",
   "metadata": {},
   "outputs": [],
   "source": [
    "#sns.boxplot(taobao_sampled['price'])"
   ]
  },
  {
   "cell_type": "code",
   "execution_count": null,
   "id": "aaff2f3f",
   "metadata": {},
   "outputs": [],
   "source": [
    "#taobao_sampled.shape"
   ]
  },
  {
   "cell_type": "code",
   "execution_count": null,
   "id": "13400f1f",
   "metadata": {},
   "outputs": [],
   "source": [
    "#split dates into days for categorical encoding/create dummies\n",
    "#create dummies for gender and age_level (conceverting 1s, 2s to 0s, 1s)\n",
    "#create dummies for shopping level \n",
    "#create dummies for occupation\n",
    "#create dummies for new_user_class level\n",
    "#figure out encoding function for high cardinality features\n",
    "#double check of outliers in prices"
   ]
  },
  {
   "cell_type": "code",
   "execution_count": null,
   "id": "edf23a99",
   "metadata": {},
   "outputs": [],
   "source": [
    "#since i'm checking if a user would click on an ad or not, its a supervised learning binary classification type of problem\n",
    "#given its either a 'Yes' or a 'No' and all the entirety of the dataset is labeled already"
   ]
  }
 ],
 "metadata": {
  "kernelspec": {
   "display_name": "Python 3 (ipykernel)",
   "language": "python",
   "name": "python3"
  },
  "language_info": {
   "codemirror_mode": {
    "name": "ipython",
    "version": 3
   },
   "file_extension": ".py",
   "mimetype": "text/x-python",
   "name": "python",
   "nbconvert_exporter": "python",
   "pygments_lexer": "ipython3",
   "version": "3.9.13"
  }
 },
 "nbformat": 4,
 "nbformat_minor": 5
}
